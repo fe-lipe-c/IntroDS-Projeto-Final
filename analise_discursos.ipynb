{
 "cells": [
  {
   "cell_type": "code",
   "execution_count": 29,
   "metadata": {},
   "outputs": [
    {
     "name": "stderr",
     "output_type": "stream",
     "text": [
      "[nltk_data] Downloading package stopwords to\n",
      "[nltk_data]     C:\\Users\\Felipe\\AppData\\Roaming\\nltk_data...\n",
      "[nltk_data]   Package stopwords is already up-to-date!\n"
     ]
    }
   ],
   "source": [
    "import pandas as pd\n",
    "import matplotlib.pyplot as plt\n",
    "import matplotlib.ticker as ticker\n",
    "import matplotlib.animation as animation\n",
    "from IPython.display import HTML\n",
    "\n",
    "import pandas as pd\n",
    "import string\n",
    "import nltk \n",
    "from wordcloud import WordCloud\n",
    "nltk.download('stopwords')\n",
    "from collections import Counter\n",
    "from unicodedata import normalize\n",
    "import numpy as np\n",
    "import matplotlib.pyplot as plt\n",
    "import matplotlib.ticker as ticker\n",
    "import matplotlib.animation as animation\n",
    "from IPython.display import HTML\n",
    "\n",
    "import re\n",
    "\n",
    "import os \n",
    "import pathlib"
   ]
  },
  {
   "cell_type": "markdown",
   "metadata": {},
   "source": [
    "# Note para analisar os discursos dos deputados e dos partidos nas sessões de 2019 \n"
   ]
  },
  {
   "cell_type": "markdown",
   "metadata": {},
   "source": [
    "Definindo base do governo,oposição,deputados mais bem votados..."
   ]
  },
  {
   "cell_type": "code",
   "execution_count": 2,
   "metadata": {},
   "outputs": [],
   "source": [
    "GOVERNO=['PSL','PP','PSD','MDB','PR','PRB','DEM','PSDB','PTB','PMN','PSC','NOVO','PTC','PHS']\n",
    "BLOCO_A=['PDT','AVANTE','PATRI','PV','PROS','PPS','CIDADANIA','SOLIDARIEDADE','PODE','PL','DC','PRP','PATRIOTA']\n",
    "OPOSICAO=['PT','PSOL','PSB','REDE','PCdoB','PPL']\n",
    "\n",
    "deputados=['Eduardo Bolsonaro', 'Joice Hasselmann','Celso Russomanno','Kim Kataguiri','Joao campos',\\\n",
    "           'Tiririca','Marcel Van Hattem','Helio Fernando Barbosa Lopes','Marcelo Freixo',\\\n",
    "           'Pastor Sargento','Sargento Fahur','Capitao Wagner','Delgado Waldir','Tabata Amaral', 'Policial Katia Sastre']\n",
    "\n",
    "numero_votos=[1843735,1078666,521728,465310,460387,453855,349855,345234,342491,323264,314963,303593,274406,264450,264013]\n",
    "\n",
    "mydir=os.getcwd()\n",
    "outPath=mydir+'\\\\Data3\\\\df_2019.csv'"
   ]
  },
  {
   "cell_type": "markdown",
   "metadata": {},
   "source": [
    "Extraindo os dados "
   ]
  },
  {
   "cell_type": "code",
   "execution_count": 3,
   "metadata": {},
   "outputs": [],
   "source": [
    "data3=pd.read_csv(outPath,sep=';')"
   ]
  },
  {
   "cell_type": "markdown",
   "metadata": {},
   "source": [
    "Concatenando e contando os dicursos dos 10 deputados mais bem votados em 2018 nas sessões de 2019 "
   ]
  },
  {
   "cell_type": "code",
   "execution_count": 4,
   "metadata": {},
   "outputs": [
    {
     "data": {
      "text/plain": [
       "['- Assim o prometo.\\n\\nO ',\n",
       " '- Sra. Presidente, votei com o\\npartido na última votação.\\n\\nA ',\n",
       " '- Sra. Presidente, Deputada Katia\\nSastre votou com o partido na última votação.\\n\\nO ',\n",
       " '- O PL vota \"não\".\\n\\nA ',\n",
       " '- O PR orienta \"não\".\\n\\nA ',\n",
       " '- Sra. Presidente, a Deputada\\nPolicial Katia Sastre votou com o partido na última votação.\\n\\n52/75\\n\\n\\n\\n\\n\\nA ']"
      ]
     },
     "execution_count": 4,
     "metadata": {},
     "output_type": "execute_result"
    }
   ],
   "source": [
    "#Eduardo Bolsonaro \n",
    "\n",
    "texto_edubol=[]\n",
    "lista_partido=[]\n",
    "discurso_edubol=[]\n",
    "for i in range(0,len(data3)): \n",
    "    if data3.iloc[i,6]=='EDUARDO BOLSONARO':\n",
    "        a=data3.iloc[i,1]\n",
    "        discurso_edubol.append(a)\n",
    "        partido=data3.iloc[i,8]\n",
    "for discurso in discurso_edubol:\n",
    "    for b in discurso: \n",
    "        texto_edubol.append(b)\n",
    "participacao_edubol=len(discurso_edubol) \n",
    "lista_partido.append(partido)\n",
    "lista_partido\n",
    "\n",
    "#Joice Hasselmann \n",
    "\n",
    "texto_hassel=[]\n",
    "discurso_hassel=[]\n",
    "for i in range(0,len(data3)): \n",
    "    if data3.iloc[i,6]=='JOICE HASSELMANN':\n",
    "        a=data3.iloc[i,1]\n",
    "        discurso_hassel.append(a)\n",
    "        partido=data3.iloc[i,8]\n",
    "for discurso in discurso_hassel:\n",
    "    for b in discurso: \n",
    "        texto_hassel.append(b)\n",
    "participacao_hassel=len(discurso_hassel) \n",
    "lista_partido.append(partido)\n",
    "lista_partido\n",
    "\n",
    "#Celso Russomanno \n",
    "\n",
    "texto_russomanno=[]\n",
    "discurso_russomanno=[]\n",
    "for i in range(0,len(data3)):\n",
    "    if data3.iloc[i,6]=='CELSO RUSSOMANNO': \n",
    "        a=data3.iloc[i,1]\n",
    "        discurso_russomanno.append(a)\n",
    "        partido=data3.iloc[i,8]\n",
    "for discurso in discurso_russomanno:\n",
    "    for b in discurso: \n",
    "        texto_russomanno.append(b)\n",
    "participacao_russomanno=len(discurso_russomanno) \n",
    "lista_partido.append(partido)\n",
    "lista_partido\n",
    "\n",
    "#Kim Kataguiri \n",
    "\n",
    "texto_kim=[]\n",
    "discurso_kim=[]\n",
    "for i in range(0,len(data3)):\n",
    "    if data3.iloc[i,6]=='KIM KATAGUIRI': \n",
    "        a=data3.iloc[i,1]\n",
    "        discurso_kim.append(a)\n",
    "        partido=data3.iloc[i,8]\n",
    "for discurso in discurso_kim:\n",
    "    for b in discurso: \n",
    "        texto_kim.append(b)\n",
    "participacao_kim =len(discurso_kim)   \n",
    "lista_partido.append(partido)\n",
    "lista_partido\n",
    "\n",
    "#Joao Campos \n",
    "\n",
    "texto_joaocampos=[]\n",
    "discurso_joaocampos=[]\n",
    "for i in range(0,len(data3)):\n",
    "    if data3.iloc[i,6]=='JOAO CAMPOS': \n",
    "        a=data3.iloc[i,1]\n",
    "        discurso_joaocampos.append(a)\n",
    "        partido=data3.iloc[i,8]\n",
    "for discurso in discurso_kim:\n",
    "    for b in discurso: \n",
    "        texto_joaocampos.append(b)\n",
    "participacao_joaocampos =len(discurso_joaocampos)   \n",
    "lista_partido.append(partido)\n",
    "lista_partido\n",
    "\n",
    "#Tiririca \n",
    "\n",
    "texto_tiririca=[]\n",
    "discurso_tiririca=[]\n",
    "for i in range(0,len(data3)):\n",
    "    if data3.iloc[i,6]=='TIRIRICA': \n",
    "        a=data3.iloc[i,1]\n",
    "        discurso_tiririca.append(a)\n",
    "        partido=data3.iloc[i,8]\n",
    "for discurso in discurso_tiririca:\n",
    "    for b in discurso: \n",
    "        texto_tiririca.append(b)\n",
    "participacao_tiririca =len(discurso_tiririca)   \n",
    "lista_partido.append(partido)\n",
    "lista_partido\n",
    "\n",
    "#Marcel Van Hattem \n",
    "\n",
    "texto_marcelvan=[]\n",
    "discurso_marcelvan=[]\n",
    "for i in range(0,len(data3)):\n",
    "    if data3.iloc[i,6]=='MARCEL VAN HATTEM':\n",
    "        a=data3.iloc[i,1]\n",
    "        discurso_marcelvan.append(a)\n",
    "        partido=data3.iloc[i,8]\n",
    "for discurso in discurso_marcelvan:\n",
    "    for b in discurso: \n",
    "        texto_marcelvan.append(b)\n",
    "participacao_marcelvan =len(discurso_marcelvan)  \n",
    "lista_partido.append(partido)\n",
    "lista_partido\n",
    "\n",
    "#Helio Fernando Barbosa Lopes\n",
    "texto_helio=[]\n",
    "discurso_heliolopes=[]\n",
    "for i in range(0,len(data3)):\n",
    "    if data3.iloc[i,6]=='HELIO LOPES':\n",
    "        a=data3.iloc[i,1]\n",
    "        discurso_heliolopes.append(a)\n",
    "        partido=data3.iloc[i,8]\n",
    "for discurso in discurso_heliolopes:\n",
    "    for b in discurso: \n",
    "        texto_helio.append(b)\n",
    "participacao_heliolopes =len(discurso_heliolopes) \n",
    "lista_partido.append(partido)\n",
    "lista_partido\n",
    "\n",
    "#Marcelo Freixo\n",
    "texto_freixo=[]\n",
    "discurso_marcelofreixo=[]\n",
    "for i in range(0,len(data3)):\n",
    "    if data3.iloc[i,6]=='MARCELO FREIXO':\n",
    "        a=data3.iloc[i,1]\n",
    "        discurso_marcelofreixo.append(a)\n",
    "        partido=data3.iloc[i,8]\n",
    "for discurso in discurso_marcelofreixo:\n",
    "    for b in discurso: \n",
    "        texto_freixo.append(b)\n",
    "participacao_marcelofreixo =len(discurso_marcelofreixo)  \n",
    "lista_partido.append(partido)\n",
    "lista_partido\n",
    "\n",
    "\n",
    "#Pastor Sargento\n",
    "texto_pastors=[]\n",
    "discurso_pastor_sargento=[]\n",
    "for i in range(0,len(data3)):\n",
    "    if data3.iloc[i,6]=='PASTOR SARGENTO ISIDÓRIO':\n",
    "        a=data3.iloc[i,1]\n",
    "        discurso_pastor_sargento.append(a)\n",
    "        partido=data3.iloc[i,8]\n",
    "for discurso in discurso_pastor_sargento:\n",
    "    for b in discurso: \n",
    "        texto_pastors.append(b)\n",
    "participacao_pastorsargento =len(discurso_pastor_sargento) \n",
    "discurso_pastor_sargento\n",
    "lista_partido.append(partido)\n",
    "lista_partido\n",
    "\n",
    "#Sargento Fahur\n",
    "texto_fahur=[]\n",
    "discurso_sargentofahur=[]\n",
    "for i in range(0,len(data3)):\n",
    "    if data3.iloc[i,6]=='SARGENTO FAHUR':\n",
    "        a=data3.iloc[i,1]\n",
    "        discurso_sargentofahur.append(a)\n",
    "        partido=data3.iloc[i,8]\n",
    "for discurso in discurso_sargentofahur:\n",
    "    for b in discurso: \n",
    "        texto_fahur.append(b)\n",
    "participacao_sargentofahur =len(discurso_sargentofahur) \n",
    "discurso_sargentofahur\n",
    "lista_partido.append(partido)\n",
    "lista_partido\n",
    "\n",
    "#Capitao Wagner\n",
    "texto_capitao=[]\n",
    "discurso_capitaowagner=[]\n",
    "for i in range(0,len(data3)):\n",
    "    if data3.iloc[i,6]=='CAPITÃO WAGNER':\n",
    "        a=data3.iloc[i,1]\n",
    "        discurso_capitaowagner.append(a)\n",
    "        partido=data3.iloc[i,8]\n",
    "for discurso in discurso_capitaowagner:\n",
    "    for b in discurso: \n",
    "        texto_capitao.append(b)\n",
    "participacao_capitaowagner =len(discurso_capitaowagner) \n",
    "discurso_capitaowagner \n",
    "lista_partido.append(partido)\n",
    "lista_partido\n",
    "\n",
    "#Delgado Waldir\n",
    "texto_delegado=[]\n",
    "discurso_delegadowaldir=[]\n",
    "for i in range(0,len(data3)):\n",
    "    if data3.iloc[i,6]=='DELEGADO WALDIR':\n",
    "        a=data3.iloc[i,1]\n",
    "        discurso_delegadowaldir.append(a)\n",
    "        partido=data3.iloc[i,8]\n",
    "for discurso in discurso_kim:\n",
    "    for b in discurso: \n",
    "        texto_delegado.append(b)\n",
    "participacao_delegadowaldir =len(discurso_delegadowaldir) \n",
    "discurso_delegadowaldir \n",
    "participacao_delegadowaldir\n",
    "lista_partido.append(partido)\n",
    "lista_partido\n",
    "\n",
    "#Tabata Amaral\n",
    "texto_tabata=[]\n",
    "discurso_tabata=[]\n",
    "for i in range(0,len(data3)):\n",
    "    if data3.iloc[i,6]=='TABATA AMARAL':\n",
    "        a=data3.iloc[i,1]\n",
    "        discurso_tabata.append(a)\n",
    "        partido=data3.iloc[i,8]\n",
    "        \n",
    "for discurso in discurso_tabata:\n",
    "    for b in discurso: \n",
    "        texto_tabata.append(b)\n",
    "participacao_tabata =len(discurso_tabata) \n",
    "discurso_tabata\n",
    "participacao_tabata\n",
    "lista_partido.append(partido)\n",
    "lista_partido\n",
    "\n",
    "#Policial Katia Sastre\n",
    "texto_katia=[]\n",
    "discurso_katia=[]\n",
    "for i in range(0,len(data3)):\n",
    "    if data3.iloc[i,6]=='POLICIAL KATIA SASTRE':\n",
    "        a=data3.iloc[i,1]\n",
    "        discurso_katia.append(a)\n",
    "        partido=data3.iloc[i,8]\n",
    "for discurso in discurso_katia:\n",
    "    for b in discurso: \n",
    "        texto_katia.append(b)\n",
    "participacao_katia =len(discurso_katia) \n",
    "discurso_katia\n",
    "participacao_katia\n",
    "lista_partido.append(partido)\n",
    "discurso_katia"
   ]
  },
  {
   "cell_type": "code",
   "execution_count": 5,
   "metadata": {},
   "outputs": [
    {
     "name": "stdout",
     "output_type": "stream",
     "text": [
      "                            Nome Partido    Votos  participacao\n",
      "0              Eduardo Bolsonaro     PSL  1843735            17\n",
      "1               Joice Hasselmann     PSL  1078666            42\n",
      "2               Celso Russomanno     PRB   521728            12\n",
      "3                  Kim Kataguiri     DEM   465310            68\n",
      "4                    Joao campos     DEM   460387             0\n",
      "5                       Tiririca      PR   453855             1\n",
      "6              Marcel Van Hattem    NOVO   349855           311\n",
      "7   Helio Fernando Barbosa Lopes     PSL   345234             6\n",
      "8                 Marcelo Freixo    PSOL   342491            74\n",
      "9                Pastor Sargento  AVANTE   323264           103\n",
      "10                Sargento Fahur     PSD   314963             2\n",
      "11                Capitao Wagner    PROS   303593           109\n",
      "12                Delgado Waldir     PSL   274406            39\n",
      "13                 Tabata Amaral     PDT   264450            19\n",
      "14         Policial Katia Sastre      PR   264013             6\n"
     ]
    }
   ],
   "source": [
    "participacao=[participacao_edubol,participacao_hassel,participacao_russomanno,participacao_kim,participacao_joaocampos,\n",
    "             participacao_tiririca,participacao_marcelvan,participacao_heliolopes,participacao_marcelofreixo,\n",
    "             participacao_pastorsargento,participacao_sargentofahur,participacao_capitaowagner,\n",
    "             participacao_delegadowaldir,participacao_tabata,participacao_katia]\n",
    "\n",
    "df=pd.DataFrame()\n",
    "df['Nome']=deputados\n",
    "df['Partido']=lista_partido\n",
    "df['Votos']=numero_votos\n",
    "df['participacao']=participacao\n",
    "print(df)\n",
    "\n",
    "colors = dict(zip(\n",
    "    ['PSL', 'PRB', 'DEM', 'PR',\n",
    "     'NOVO', 'PSOL', 'PSD','PROS','PDT','PRB','AVANTE','REDE','PL','PSDB','PP'],\n",
    "    ['cornflowerblue', 'cornflowerblue', 'cornflowerblue', 'cornflowerblue',\n",
    "     'cornflowerblue', 'red', 'cornflowerblue','yellow', 'yellow','cornflowerblue','cornflowerblue','red','cornflowerblue','cornflowerblue','cornflowerblue']))\n",
    "group_lk = df.set_index('Nome')['Partido'].to_dict()\n",
    "group_lk2=df.set_index('Nome')['Votos'].to_dict()"
   ]
  },
  {
   "cell_type": "code",
   "execution_count": 6,
   "metadata": {},
   "outputs": [
    {
     "data": {
      "image/png": "[encoded data removed]",
      "text/plain": [
       "<Figure size 1080x576 with 1 Axes>"
      ]
     },
     "metadata": {
      "needs_background": "light"
     },
     "output_type": "display_data"
    }
   ],
   "source": [
    "fig, ax = plt.subplots(figsize=(15, 8))\n",
    "#ax.barh(deputados, participacao)\n",
    "#fig, ax = plt.subplots(figsize=(15, 8))\n",
    "participacao = participacao[::-1]   # flip values from top to bottom\n",
    "deputados=deputados[::-1]\n",
    "# pass colors values to `color=`\n",
    "ax.barh(deputados, participacao, color=[colors[group_lk[x]] for x in deputados])\n",
    "# iterate over the values to plot labels and values (Tokyo, Asia, 38194.2)\n",
    "for i, (value, name) in enumerate(zip(participacao, deputados)):\n",
    "    #ax.text(value, i,     name,            ha='right')  # Tokyo: name\n",
    "    ax.text(value, i-.25, group_lk[name],  ha='left')  # Asia: group name\n",
    "\n",
    "# Add year right middle portion of canvas\n",
    "ax.text(1, 0.4, '2019', transform=ax.transAxes, size=46, ha='right')\n",
    "plt.title('Participação na Câmara dos 15 deputados mais bem votados')\n",
    "plt.savefig('participacao_deputados.png')"
   ]
  },
  {
   "cell_type": "code",
   "execution_count": 7,
   "metadata": {},
   "outputs": [],
   "source": [
    "deputados_menos=['Pastor Manuel Marcos', 'Joenia Wapichana','Jesus Sergio','Leda Sadala',\n",
    "                'Otaci', 'Edio Lopes','Sheridan','Andre Abdon','Nicoletti','Hiran Goncalves']"
   ]
  },
  {
   "cell_type": "code",
   "execution_count": null,
   "metadata": {},
   "outputs": [],
   "source": []
  },
  {
   "cell_type": "code",
   "execution_count": 9,
   "metadata": {},
   "outputs": [
    {
     "data": {
      "text/plain": [
       "{'Policial Katia Sastre': 'PSL',\n",
       " 'Tabata Amaral': 'PSL',\n",
       " 'Delgado Waldir': 'PRB',\n",
       " 'Capitao Wagner': 'DEM',\n",
       " 'Sargento Fahur': 'DEM',\n",
       " 'Pastor Sargento': 'PR',\n",
       " 'Marcelo Freixo': 'NOVO',\n",
       " 'Helio Fernando Barbosa Lopes': 'PSL',\n",
       " 'Marcel Van Hattem': 'PSOL',\n",
       " 'Tiririca': 'AVANTE',\n",
       " 'Joao campos': 'PSD',\n",
       " 'Kim Kataguiri': 'PROS',\n",
       " 'Celso Russomanno': 'PSL',\n",
       " 'Joice Hasselmann': 'PDT',\n",
       " 'Eduardo Bolsonaro': 'PR'}"
      ]
     },
     "execution_count": 9,
     "metadata": {},
     "output_type": "execute_result"
    }
   ],
   "source": [
    "\n",
    "dict(zip(deputados,lista_partido))"
   ]
  },
  {
   "cell_type": "code",
   "execution_count": 34,
   "metadata": {},
   "outputs": [],
   "source": []
  },
  {
   "cell_type": "code",
   "execution_count": 10,
   "metadata": {},
   "outputs": [],
   "source": [
    "participacao=[participacao_edubol,participacao_hassel,participacao_russomanno,participacao_kim,participacao_joaocampos,\n",
    "             participacao_tiririca,participacao_marcelvan,participacao_heliolopes,participacao_marcelofreixo,\n",
    "             participacao_pastorsargento,participacao_sargentofahur,participacao_capitaowagner,\n",
    "             participacao_delegadowaldir,participacao_tabata,participacao_katia]"
   ]
  },
  {
   "cell_type": "code",
   "execution_count": 11,
   "metadata": {},
   "outputs": [
    {
     "data": {
      "text/plain": [
       "[17, 42, 12, 68, 0, 1, 311, 6, 74, 103, 2, 109, 39, 19, 6]"
      ]
     },
     "execution_count": 11,
     "metadata": {},
     "output_type": "execute_result"
    }
   ],
   "source": [
    "participacao"
   ]
  },
  {
   "cell_type": "code",
   "execution_count": 12,
   "metadata": {},
   "outputs": [
    {
     "data": {
      "text/plain": [
       "['Policial Katia Sastre',\n",
       " 'Tabata Amaral',\n",
       " 'Delgado Waldir',\n",
       " 'Capitao Wagner',\n",
       " 'Sargento Fahur',\n",
       " 'Pastor Sargento',\n",
       " 'Marcelo Freixo',\n",
       " 'Helio Fernando Barbosa Lopes',\n",
       " 'Marcel Van Hattem',\n",
       " 'Tiririca',\n",
       " 'Joao campos',\n",
       " 'Kim Kataguiri',\n",
       " 'Celso Russomanno',\n",
       " 'Joice Hasselmann',\n",
       " 'Eduardo Bolsonaro']"
      ]
     },
     "execution_count": 12,
     "metadata": {},
     "output_type": "execute_result"
    }
   ],
   "source": [
    "deputados"
   ]
  },
  {
   "cell_type": "code",
   "execution_count": 13,
   "metadata": {},
   "outputs": [],
   "source": [
    "colors = dict(zip(\n",
    "    ['PSL', 'PRB', 'DEM', 'PR',\n",
    "     'NOVO', 'PSOL', 'PSD','PROS','PDT','PR','AVANTE'],\n",
    "    ['#adb0ff', '#ffb3ff', '#90d595', '#e48381',\n",
    "     '#aafbff', '#f7bb5f', '#eafb50','#f7bb5f', '#eafb50','#eafb51','#eafb52']))\n",
    "group_lk = df.set_index('Nome')['Partido'].to_dict()\n",
    "group_lk2=df.set_index('Nome')['Votos'].to_dict()"
   ]
  },
  {
   "cell_type": "code",
   "execution_count": 14,
   "metadata": {},
   "outputs": [],
   "source": [
    "colors = dict(zip(\n",
    "    ['PSL', 'PRB', 'DEM', 'PR',\n",
    "     'NOVO', 'PSOL', 'PSD','PROS','PDT','PRB','AVANTE','REDE','PL','PSDB','PP'],\n",
    "    ['cornflowerblue', 'cornflowerblue', 'cornflowerblue', 'cornflowerblue',\n",
    "     'cornflowerblue', 'red', 'cornflowerblue','yellow', 'yellow','cornflowerblue','cornflowerblue','red','cornflowerblue','cornflowerblue','cornflowerblue']))\n",
    "group_lk = df.set_index('Nome')['Partido'].to_dict()\n",
    "group_lk2=df.set_index('Nome')['Votos'].to_dict()"
   ]
  },
  {
   "cell_type": "code",
   "execution_count": 15,
   "metadata": {},
   "outputs": [
    {
     "data": {
      "image/png": "[encoded data removed]",
      "text/plain": [
       "<Figure size 1080x576 with 1 Axes>"
      ]
     },
     "metadata": {
      "needs_background": "light"
     },
     "output_type": "display_data"
    }
   ],
   "source": [
    "fig, ax = plt.subplots(figsize=(15, 8))\n",
    "#ax.barh(deputados, participacao)\n",
    "#fig, ax = plt.subplots(figsize=(15, 8))\n",
    "participacao = participacao[::-1]   # flip values from top to bottom\n",
    "deputados=deputados[::-1]\n",
    "# pass colors values to `color=`\n",
    "ax.barh(deputados, participacao, color=[colors[group_lk[x]] for x in deputados])\n",
    "# iterate over the values to plot labels and values (Tokyo, Asia, 38194.2)\n",
    "for i, (value, name) in enumerate(zip(participacao, deputados)):\n",
    "    #ax.text(value, i,     name,            ha='right')  # Tokyo: name\n",
    "    ax.text(value, i-.25, group_lk[name],  ha='left')  # Asia: group name\n",
    "\n",
    "# Add year right middle portion of canvas\n",
    "ax.text(1, 0.4, '2019', transform=ax.transAxes, size=46, ha='right')\n",
    "plt.title('Participação na Câmara dos 15 deputados mais bem votados')\n",
    "plt.savefig('participacao_dep2.png')"
   ]
  },
  {
   "cell_type": "code",
   "execution_count": 16,
   "metadata": {},
   "outputs": [
    {
     "data": {
      "text/plain": [
       "27"
      ]
     },
     "execution_count": 16,
     "metadata": {},
     "output_type": "execute_result"
    }
   ],
   "source": [
    "#Manuel Marcos \n",
    "lista_partido_menos=[]\n",
    "texto_pastormanuel=[]\n",
    "discurso_pastormanuel=[]\n",
    "for i in range(0,len(data3)):\n",
    "    if data3.iloc[i,6]=='MANUEL MARCOS':\n",
    "        a=data3.iloc[i,1]\n",
    "        discurso_pastormanuel.append(a)\n",
    "        partido=data3.iloc[i,8]\n",
    "for discurso in discurso_pastormanuel:\n",
    "    for b in discurso: \n",
    "        texto_pastormanuel.append(b)\n",
    "participacao_pastormanuel =len(discurso_pastormanuel)  \n",
    "lista_partido_menos.append(partido)\n",
    "lista_partido_menos\n",
    "participacao_pastormanuel\n",
    "\n",
    "#Joenia \n",
    "texto_joenia=[]\n",
    "discurso_joenia=[]\n",
    "for i in range(0,len(data3)):\n",
    "    if data3.iloc[i,6]=='JOENIA WAPICHANA':\n",
    "        a=data3.iloc[i,1]\n",
    "        discurso_joenia.append(a)\n",
    "        partido=data3.iloc[i,8]\n",
    "for discurso in discurso_joenia:\n",
    "    for b in discurso: \n",
    "        texto_joenia.append(b)\n",
    "participacao_joenia =len(discurso_joenia)  \n",
    "lista_partido_menos.append(partido)\n",
    "lista_partido_menos\n",
    "participacao_joenia\n",
    "\n",
    "##Jesus Sergio\n",
    "texto_jesus=[]\n",
    "discurso_jesusergio=[]\n",
    "for i in range(0,len(data3)):\n",
    "    if data3.iloc[i,6]=='JESUS SÉRGIO':\n",
    "        a=data3.iloc[i,1]\n",
    "        discurso_jesusergio.append(a)\n",
    "        partido=data3.iloc[i,8]\n",
    "for discurso in discurso_jesusergio:\n",
    "    for b in discurso: \n",
    "        texto_jesus.append(b)\n",
    "participacao_jesusergio =len(discurso_jesusergio)  \n",
    "lista_partido_menos.append(partido)\n",
    "lista_partido_menos\n",
    "participacao_jesusergio\n",
    "\n",
    "#Leda Sadala\n",
    "texto_leda=[]\n",
    "discurso_leda=[]\n",
    "for i in range(0,len(data3)):\n",
    "    if data3.iloc[i,6]=='LEDA SADALA':\n",
    "        a=data3.iloc[i,1]\n",
    "        discurso_leda.append(a)\n",
    "        partido=data3.iloc[i,8]\n",
    "for discurso in discurso_leda:\n",
    "    for b in discurso: \n",
    "        texto_leda.append(b)\n",
    "participacao_leda =len(discurso_leda)  \n",
    "lista_partido_menos.append(partido)\n",
    "lista_partido_menos\n",
    "participacao_leda\n",
    "\n",
    "#Otaci\n",
    "texto_otaci=[]\n",
    "discurso_otaci=[]\n",
    "for i in range(0,len(data3)):\n",
    "    if data3.iloc[i,6]=='OTACI BARROSO':\n",
    "        a=data3.iloc[i,1]\n",
    "        discurso_otaci.append(a)\n",
    "        partido=data3.iloc[i,8]\n",
    "for discurso in discurso_otaci:\n",
    "    for b in discurso: \n",
    "        texto_otaci.append(b)\n",
    "participacao_otaci=len(discurso_otaci)  \n",
    "lista_partido_menos.append(partido)\n",
    "lista_partido_menos\n",
    "\n",
    "#Edio Lopes\n",
    "texto_edio=[]\n",
    "discurso_edio=[]\n",
    "for i in range(0,len(data3)):\n",
    "    if data3.iloc[i,6]=='EDIO LOPES':\n",
    "        a=data3.iloc[i,1]\n",
    "        discurso_edio.append(a)\n",
    "        partido=data3.iloc[i,8]\n",
    "for discurso in discurso_edio:\n",
    "    for b in discurso: \n",
    "        texto_edio.append(b)\n",
    "participacao_edio=len(discurso_edio)  \n",
    "lista_partido_menos.append(partido)\n",
    "lista_partido_menos\n",
    "participacao_edio\n",
    "\n",
    "#Sheridan\n",
    "texto_sheridan=[]\n",
    "discurso_sheridan=[]\n",
    "for i in range(0,len(data3)):\n",
    "    if data3.iloc[i,6]=='SHÉRIDAN':\n",
    "        a=data3.iloc[i,1]\n",
    "        discurso_sheridan.append(a)\n",
    "        partido=data3.iloc[i,8]\n",
    "for discurso in discurso_sheridan:\n",
    "    for b in discurso: \n",
    "        texto_sheridan.append(b)\n",
    "participacao_sheridan=len(discurso_sheridan)  \n",
    "lista_partido_menos.append(partido)\n",
    "lista_partido_menos\n",
    "participacao_sheridan\n",
    "\n",
    "#Andre Abdon\n",
    "texto_abdon=[]\n",
    "discurso_abdon=[]\n",
    "for i in range(0,len(data3)):\n",
    "    if data3.iloc[i,6]=='ANDRÉ ABDON':\n",
    "        a=data3.iloc[i,1]\n",
    "        discurso_abdon.append(a)\n",
    "        partido=data3.iloc[i,8]\n",
    "for discurso in discurso_abdon:\n",
    "    for b in discurso: \n",
    "        texto_abdon.append(b)\n",
    "participacao_abdon=len(discurso_abdon)  \n",
    "lista_partido_menos.append(partido)\n",
    "lista_partido_menos\n",
    "participacao_abdon\n",
    "\n",
    "#Nicoletti\n",
    "texto_nicoletti=[]\n",
    "discurso_nicoletti=[]\n",
    "for i in range(0,len(data3)):\n",
    "    if data3.iloc[i,6]=='ANTÔNIO CARLOS':\n",
    "        a=data3.iloc[i,1]\n",
    "        discurso_nicoletti.append(a)\n",
    "        partido=data3.iloc[i,8]\n",
    "for discurso in discurso_nicoletti:\n",
    "    for b in discurso: \n",
    "        texto_abdon.append(b)\n",
    "participacao_nicoletti=len(discurso_nicoletti)  \n",
    "lista_partido_menos.append(partido)\n",
    "lista_partido_menos\n",
    "participacao_nicoletti\n",
    "\n",
    "#Hiran Goncalves\n",
    "texto_hiran=[]\n",
    "discurso_hiran=[]\n",
    "for i in range(0,len(data3)):\n",
    "    if data3.iloc[i,6]=='HIRAN GONÇALVES':\n",
    "        a=data3.iloc[i,1]\n",
    "        discurso_hiran.append(a)\n",
    "        partido=data3.iloc[i,8]\n",
    "for discurso in discurso_hiran:\n",
    "    for b in discurso: \n",
    "        texto_hiran.append(b)\n",
    "participacao_hiran=len(discurso_hiran)  \n",
    "lista_partido_menos.append(partido)\n",
    "lista_partido_menos\n",
    "participacao_hiran"
   ]
  },
  {
   "cell_type": "code",
   "execution_count": 17,
   "metadata": {},
   "outputs": [],
   "source": [
    "participacao_menos=[participacao_pastormanuel,participacao_joenia,participacao_jesusergio,participacao_leda,\n",
    "                   participacao_otaci,participacao_edio,participacao_sheridan,participacao_abdon,\n",
    "                    participacao_nicoletti,participacao_hiran]"
   ]
  },
  {
   "cell_type": "code",
   "execution_count": 18,
   "metadata": {},
   "outputs": [
    {
     "data": {
      "text/html": [
       "<div>\n",
       "<style scoped>\n",
       "    .dataframe tbody tr th:only-of-type {\n",
       "        vertical-align: middle;\n",
       "    }\n",
       "\n",
       "    .dataframe tbody tr th {\n",
       "        vertical-align: top;\n",
       "    }\n",
       "\n",
       "    .dataframe thead th {\n",
       "        text-align: right;\n",
       "    }\n",
       "</style>\n",
       "<table border=\"1\" class=\"dataframe\">\n",
       "  <thead>\n",
       "    <tr style=\"text-align: right;\">\n",
       "      <th></th>\n",
       "      <th>Nome</th>\n",
       "      <th>Partido</th>\n",
       "      <th>participacao</th>\n",
       "    </tr>\n",
       "  </thead>\n",
       "  <tbody>\n",
       "    <tr>\n",
       "      <th>0</th>\n",
       "      <td>Pastor Manuel Marcos</td>\n",
       "      <td>PRB</td>\n",
       "      <td>PRB</td>\n",
       "    </tr>\n",
       "    <tr>\n",
       "      <th>1</th>\n",
       "      <td>Joenia Wapichana</td>\n",
       "      <td>REDE</td>\n",
       "      <td>REDE</td>\n",
       "    </tr>\n",
       "    <tr>\n",
       "      <th>2</th>\n",
       "      <td>Jesus Sergio</td>\n",
       "      <td>PDT</td>\n",
       "      <td>PDT</td>\n",
       "    </tr>\n",
       "    <tr>\n",
       "      <th>3</th>\n",
       "      <td>Leda Sadala</td>\n",
       "      <td>AVANTE</td>\n",
       "      <td>AVANTE</td>\n",
       "    </tr>\n",
       "    <tr>\n",
       "      <th>4</th>\n",
       "      <td>Otaci</td>\n",
       "      <td>AVANTE</td>\n",
       "      <td>AVANTE</td>\n",
       "    </tr>\n",
       "    <tr>\n",
       "      <th>5</th>\n",
       "      <td>Edio Lopes</td>\n",
       "      <td>PL</td>\n",
       "      <td>PL</td>\n",
       "    </tr>\n",
       "    <tr>\n",
       "      <th>6</th>\n",
       "      <td>Sheridan</td>\n",
       "      <td>PSDB</td>\n",
       "      <td>PSDB</td>\n",
       "    </tr>\n",
       "    <tr>\n",
       "      <th>7</th>\n",
       "      <td>Andre Abdon</td>\n",
       "      <td>PP</td>\n",
       "      <td>PP</td>\n",
       "    </tr>\n",
       "    <tr>\n",
       "      <th>8</th>\n",
       "      <td>Nicoletti</td>\n",
       "      <td>PP</td>\n",
       "      <td>PP</td>\n",
       "    </tr>\n",
       "    <tr>\n",
       "      <th>9</th>\n",
       "      <td>Hiran Goncalves</td>\n",
       "      <td>PP</td>\n",
       "      <td>PP</td>\n",
       "    </tr>\n",
       "  </tbody>\n",
       "</table>\n",
       "</div>"
      ],
      "text/plain": [
       "                   Nome Partido participacao\n",
       "0  Pastor Manuel Marcos     PRB          PRB\n",
       "1      Joenia Wapichana    REDE         REDE\n",
       "2          Jesus Sergio     PDT          PDT\n",
       "3           Leda Sadala  AVANTE       AVANTE\n",
       "4                 Otaci  AVANTE       AVANTE\n",
       "5            Edio Lopes      PL           PL\n",
       "6              Sheridan    PSDB         PSDB\n",
       "7           Andre Abdon      PP           PP\n",
       "8             Nicoletti      PP           PP\n",
       "9       Hiran Goncalves      PP           PP"
      ]
     },
     "execution_count": 18,
     "metadata": {},
     "output_type": "execute_result"
    }
   ],
   "source": [
    "df2=pd.DataFrame()\n",
    "df2['Nome']=deputados_menos\n",
    "df2['Partido']=lista_partido_menos\n",
    "#df2['Votos']=numero_votos_menos\n",
    "df2['participacao']=lista_partido_menos\n",
    "df2\n"
   ]
  },
  {
   "cell_type": "code",
   "execution_count": 19,
   "metadata": {},
   "outputs": [],
   "source": [
    "colors2 = dict(zip(\n",
    "    ['REDE', 'PRB', 'PL', 'PP',\n",
    "     'PSDB','PDT','AVANTE'],\n",
    "    ['#adb0ff', '#ffb3ff', '#90d595', '#e48381',\n",
    "     '#aafbff', '#eafb50','#eafb52']))\n",
    "group_lk = df2.set_index('Nome')['Partido'].to_dict()\n",
    "#group_lk2=df2.set_index('Nome')['Votos'].to_dict()"
   ]
  },
  {
   "cell_type": "code",
   "execution_count": 20,
   "metadata": {},
   "outputs": [
    {
     "data": {
      "image/png": "[encoded data removed]",
      "text/plain": [
       "<Figure size 1080x576 with 1 Axes>"
      ]
     },
     "metadata": {
      "needs_background": "light"
     },
     "output_type": "display_data"
    }
   ],
   "source": [
    "fig, ax = plt.subplots(figsize=(15, 8))\n",
    "#ax.barh(deputados, participacao)\n",
    "#fig, ax = plt.subplots(figsize=(15, 8))\n",
    "participacao_menos = participacao_menos[::-1]   # flip values from top to bottom\n",
    "deputados_menos=deputados_menos[::-1]\n",
    "# pass colors values to `color=`\n",
    "ax.barh(deputados_menos, participacao_menos, color=[colors2[group_lk[x]] for x in deputados_menos])\n",
    "# iterate over the values to plot labels and values (Tokyo, Asia, 38194.2)\n",
    "for i, (value, name) in enumerate(zip(participacao_menos, deputados_menos)):\n",
    "    #ax.text(value, i,     name,            ha='right')  # Tokyo: name\n",
    "    ax.text(value, i-.25, group_lk[name],  ha='left')  # Asia: group name\n",
    "\n",
    "# Add year right middle portion of canvas\n",
    "ax.text(1, 0.4, '2019', transform=ax.transAxes, size=46, ha='right')\n",
    "plt.title('Participação na Câmara dos 10 deputados menos votados')\n",
    "plt.savefig('participacao_dep_menos.png')"
   ]
  },
  {
   "cell_type": "code",
   "execution_count": 21,
   "metadata": {},
   "outputs": [
    {
     "data": {
      "image/png": "[encoded data removed]",
      "text/plain": [
       "<Figure size 1080x576 with 1 Axes>"
      ]
     },
     "metadata": {
      "needs_background": "light"
     },
     "output_type": "display_data"
    }
   ],
   "source": [
    "fig, ax = plt.subplots(figsize=(15, 8))\n",
    "#ax.barh(deputados, participacao)\n",
    "#fig, ax = plt.subplots(figsize=(15, 8))\n",
    "participacao_menos = participacao_menos[::-1]   # flip values from top to bottom\n",
    "deputados_menos=deputados_menos[::-1]\n",
    "# pass colors values to `color=`\n",
    "ax.barh(deputados_menos, participacao_menos, color=[colors[group_lk[x]] for x in deputados_menos])\n",
    "# iterate over the values to plot labels and values (Tokyo, Asia, 38194.2)\n",
    "for i, (value, name) in enumerate(zip(participacao_menos, deputados_menos)):\n",
    "    #ax.text(value, i,     name,            ha='right')  # Tokyo: name\n",
    "    ax.text(value, i-.25, group_lk[name],  ha='left')  # Asia: group name\n",
    "\n",
    "# Add year right middle portion of canvas\n",
    "ax.text(1, 0.4, '2019', transform=ax.transAxes, size=46, ha='right')\n",
    "plt.title('Participação na Câmara dos 10 deputados menos votados')\n",
    "plt.savefig('participacao_dep_menos.png')\n"
   ]
  },
  {
   "cell_type": "code",
   "execution_count": 22,
   "metadata": {},
   "outputs": [],
   "source": [
    "deputados_totais=deputados+deputados_menos\n",
    "lista_partido_total=lista_partido+lista_partido_menos\n",
    "participacao_total=participacao+participacao_menos"
   ]
  },
  {
   "cell_type": "code",
   "execution_count": 23,
   "metadata": {},
   "outputs": [
    {
     "data": {
      "text/html": [
       "<div>\n",
       "<style scoped>\n",
       "    .dataframe tbody tr th:only-of-type {\n",
       "        vertical-align: middle;\n",
       "    }\n",
       "\n",
       "    .dataframe tbody tr th {\n",
       "        vertical-align: top;\n",
       "    }\n",
       "\n",
       "    .dataframe thead th {\n",
       "        text-align: right;\n",
       "    }\n",
       "</style>\n",
       "<table border=\"1\" class=\"dataframe\">\n",
       "  <thead>\n",
       "    <tr style=\"text-align: right;\">\n",
       "      <th></th>\n",
       "      <th>Nome</th>\n",
       "      <th>Partido</th>\n",
       "      <th>participacao</th>\n",
       "    </tr>\n",
       "  </thead>\n",
       "  <tbody>\n",
       "    <tr>\n",
       "      <th>0</th>\n",
       "      <td>Eduardo Bolsonaro</td>\n",
       "      <td>PSL</td>\n",
       "      <td>6</td>\n",
       "    </tr>\n",
       "    <tr>\n",
       "      <th>1</th>\n",
       "      <td>Joice Hasselmann</td>\n",
       "      <td>PSL</td>\n",
       "      <td>19</td>\n",
       "    </tr>\n",
       "    <tr>\n",
       "      <th>2</th>\n",
       "      <td>Celso Russomanno</td>\n",
       "      <td>PRB</td>\n",
       "      <td>39</td>\n",
       "    </tr>\n",
       "    <tr>\n",
       "      <th>3</th>\n",
       "      <td>Kim Kataguiri</td>\n",
       "      <td>DEM</td>\n",
       "      <td>109</td>\n",
       "    </tr>\n",
       "    <tr>\n",
       "      <th>4</th>\n",
       "      <td>Joao campos</td>\n",
       "      <td>DEM</td>\n",
       "      <td>2</td>\n",
       "    </tr>\n",
       "    <tr>\n",
       "      <th>5</th>\n",
       "      <td>Tiririca</td>\n",
       "      <td>PR</td>\n",
       "      <td>103</td>\n",
       "    </tr>\n",
       "    <tr>\n",
       "      <th>6</th>\n",
       "      <td>Marcel Van Hattem</td>\n",
       "      <td>NOVO</td>\n",
       "      <td>74</td>\n",
       "    </tr>\n",
       "    <tr>\n",
       "      <th>7</th>\n",
       "      <td>Helio Fernando Barbosa Lopes</td>\n",
       "      <td>PSL</td>\n",
       "      <td>6</td>\n",
       "    </tr>\n",
       "    <tr>\n",
       "      <th>8</th>\n",
       "      <td>Marcelo Freixo</td>\n",
       "      <td>PSOL</td>\n",
       "      <td>311</td>\n",
       "    </tr>\n",
       "    <tr>\n",
       "      <th>9</th>\n",
       "      <td>Pastor Sargento</td>\n",
       "      <td>AVANTE</td>\n",
       "      <td>1</td>\n",
       "    </tr>\n",
       "    <tr>\n",
       "      <th>10</th>\n",
       "      <td>Sargento Fahur</td>\n",
       "      <td>PSD</td>\n",
       "      <td>0</td>\n",
       "    </tr>\n",
       "    <tr>\n",
       "      <th>11</th>\n",
       "      <td>Capitao Wagner</td>\n",
       "      <td>PROS</td>\n",
       "      <td>68</td>\n",
       "    </tr>\n",
       "    <tr>\n",
       "      <th>12</th>\n",
       "      <td>Delgado Waldir</td>\n",
       "      <td>PSL</td>\n",
       "      <td>12</td>\n",
       "    </tr>\n",
       "    <tr>\n",
       "      <th>13</th>\n",
       "      <td>Tabata Amaral</td>\n",
       "      <td>PDT</td>\n",
       "      <td>42</td>\n",
       "    </tr>\n",
       "    <tr>\n",
       "      <th>14</th>\n",
       "      <td>Policial Katia Sastre</td>\n",
       "      <td>PR</td>\n",
       "      <td>17</td>\n",
       "    </tr>\n",
       "    <tr>\n",
       "      <th>15</th>\n",
       "      <td>Pastor Manuel Marcos</td>\n",
       "      <td>PRB</td>\n",
       "      <td>3</td>\n",
       "    </tr>\n",
       "    <tr>\n",
       "      <th>16</th>\n",
       "      <td>Joenia Wapichana</td>\n",
       "      <td>REDE</td>\n",
       "      <td>66</td>\n",
       "    </tr>\n",
       "    <tr>\n",
       "      <th>17</th>\n",
       "      <td>Jesus Sergio</td>\n",
       "      <td>PDT</td>\n",
       "      <td>14</td>\n",
       "    </tr>\n",
       "    <tr>\n",
       "      <th>18</th>\n",
       "      <td>Leda Sadala</td>\n",
       "      <td>AVANTE</td>\n",
       "      <td>11</td>\n",
       "    </tr>\n",
       "    <tr>\n",
       "      <th>19</th>\n",
       "      <td>Otaci</td>\n",
       "      <td>AVANTE</td>\n",
       "      <td>0</td>\n",
       "    </tr>\n",
       "    <tr>\n",
       "      <th>20</th>\n",
       "      <td>Edio Lopes</td>\n",
       "      <td>PL</td>\n",
       "      <td>18</td>\n",
       "    </tr>\n",
       "    <tr>\n",
       "      <th>21</th>\n",
       "      <td>Sheridan</td>\n",
       "      <td>PSDB</td>\n",
       "      <td>11</td>\n",
       "    </tr>\n",
       "    <tr>\n",
       "      <th>22</th>\n",
       "      <td>Andre Abdon</td>\n",
       "      <td>PP</td>\n",
       "      <td>2</td>\n",
       "    </tr>\n",
       "    <tr>\n",
       "      <th>23</th>\n",
       "      <td>Nicoletti</td>\n",
       "      <td>PP</td>\n",
       "      <td>0</td>\n",
       "    </tr>\n",
       "    <tr>\n",
       "      <th>24</th>\n",
       "      <td>Hiran Goncalves</td>\n",
       "      <td>PP</td>\n",
       "      <td>27</td>\n",
       "    </tr>\n",
       "  </tbody>\n",
       "</table>\n",
       "</div>"
      ],
      "text/plain": [
       "                            Nome Partido  participacao\n",
       "0              Eduardo Bolsonaro     PSL             6\n",
       "1               Joice Hasselmann     PSL            19\n",
       "2               Celso Russomanno     PRB            39\n",
       "3                  Kim Kataguiri     DEM           109\n",
       "4                    Joao campos     DEM             2\n",
       "5                       Tiririca      PR           103\n",
       "6              Marcel Van Hattem    NOVO            74\n",
       "7   Helio Fernando Barbosa Lopes     PSL             6\n",
       "8                 Marcelo Freixo    PSOL           311\n",
       "9                Pastor Sargento  AVANTE             1\n",
       "10                Sargento Fahur     PSD             0\n",
       "11                Capitao Wagner    PROS            68\n",
       "12                Delgado Waldir     PSL            12\n",
       "13                 Tabata Amaral     PDT            42\n",
       "14         Policial Katia Sastre      PR            17\n",
       "15          Pastor Manuel Marcos     PRB             3\n",
       "16              Joenia Wapichana    REDE            66\n",
       "17                  Jesus Sergio     PDT            14\n",
       "18                   Leda Sadala  AVANTE            11\n",
       "19                         Otaci  AVANTE             0\n",
       "20                    Edio Lopes      PL            18\n",
       "21                      Sheridan    PSDB            11\n",
       "22                   Andre Abdon      PP             2\n",
       "23                     Nicoletti      PP             0\n",
       "24               Hiran Goncalves      PP            27"
      ]
     },
     "execution_count": 23,
     "metadata": {},
     "output_type": "execute_result"
    }
   ],
   "source": [
    "df3=pd.DataFrame()\n",
    "df3['Nome']=deputados_totais\n",
    "df3['Partido']=lista_partido_total\n",
    "#df2['Votos']=numero_votos_menos\n",
    "df3['participacao']=participacao_total\n",
    "df3"
   ]
  },
  {
   "cell_type": "code",
   "execution_count": 61,
   "metadata": {},
   "outputs": [
    {
     "ename": "KeyError",
     "evalue": "'Policial Katia Sastre'",
     "output_type": "error",
     "traceback": [
      "\u001b[1;31m---------------------------------------------------------------------------\u001b[0m",
      "\u001b[1;31mKeyError\u001b[0m                                  Traceback (most recent call last)",
      "\u001b[1;32m<ipython-input-61-9f862195b0f3>\u001b[0m in \u001b[0;36m<module>\u001b[1;34m\u001b[0m\n\u001b[0;32m      5\u001b[0m \u001b[0mdeputados_totais\u001b[0m\u001b[1;33m=\u001b[0m\u001b[0mdeputados_totais\u001b[0m\u001b[1;33m[\u001b[0m\u001b[1;33m:\u001b[0m\u001b[1;33m:\u001b[0m\u001b[1;33m-\u001b[0m\u001b[1;36m1\u001b[0m\u001b[1;33m]\u001b[0m\u001b[1;33m\u001b[0m\u001b[1;33m\u001b[0m\u001b[0m\n\u001b[0;32m      6\u001b[0m \u001b[1;31m# pass colors values to `color=`\u001b[0m\u001b[1;33m\u001b[0m\u001b[1;33m\u001b[0m\u001b[1;33m\u001b[0m\u001b[0m\n\u001b[1;32m----> 7\u001b[1;33m \u001b[0max\u001b[0m\u001b[1;33m.\u001b[0m\u001b[0mbarh\u001b[0m\u001b[1;33m(\u001b[0m\u001b[0mdeputados_totais\u001b[0m\u001b[1;33m,\u001b[0m \u001b[0mparticipacao_total\u001b[0m\u001b[1;33m,\u001b[0m \u001b[0mcolor\u001b[0m\u001b[1;33m=\u001b[0m\u001b[1;33m[\u001b[0m\u001b[0mcolors\u001b[0m\u001b[1;33m[\u001b[0m\u001b[0mgroup_lk\u001b[0m\u001b[1;33m[\u001b[0m\u001b[0mx\u001b[0m\u001b[1;33m]\u001b[0m\u001b[1;33m]\u001b[0m \u001b[1;32mfor\u001b[0m \u001b[0mx\u001b[0m \u001b[1;32min\u001b[0m \u001b[0mdeputados_totais\u001b[0m\u001b[1;33m]\u001b[0m\u001b[1;33m)\u001b[0m\u001b[1;33m\u001b[0m\u001b[1;33m\u001b[0m\u001b[0m\n\u001b[0m\u001b[0;32m      8\u001b[0m \u001b[1;31m# iterate over the values to plot labels and values (Tokyo, Asia, 38194.2)\u001b[0m\u001b[1;33m\u001b[0m\u001b[1;33m\u001b[0m\u001b[1;33m\u001b[0m\u001b[0m\n\u001b[0;32m      9\u001b[0m \u001b[1;32mfor\u001b[0m \u001b[0mi\u001b[0m\u001b[1;33m,\u001b[0m \u001b[1;33m(\u001b[0m\u001b[0mvalue\u001b[0m\u001b[1;33m,\u001b[0m \u001b[0mname\u001b[0m\u001b[1;33m)\u001b[0m \u001b[1;32min\u001b[0m \u001b[0menumerate\u001b[0m\u001b[1;33m(\u001b[0m\u001b[0mzip\u001b[0m\u001b[1;33m(\u001b[0m\u001b[0mparticipacao_total\u001b[0m\u001b[1;33m,\u001b[0m \u001b[0mdeputados_totais\u001b[0m\u001b[1;33m)\u001b[0m\u001b[1;33m)\u001b[0m\u001b[1;33m:\u001b[0m\u001b[1;33m\u001b[0m\u001b[1;33m\u001b[0m\u001b[0m\n",
      "\u001b[1;32m<ipython-input-61-9f862195b0f3>\u001b[0m in \u001b[0;36m<listcomp>\u001b[1;34m(.0)\u001b[0m\n\u001b[0;32m      5\u001b[0m \u001b[0mdeputados_totais\u001b[0m\u001b[1;33m=\u001b[0m\u001b[0mdeputados_totais\u001b[0m\u001b[1;33m[\u001b[0m\u001b[1;33m:\u001b[0m\u001b[1;33m:\u001b[0m\u001b[1;33m-\u001b[0m\u001b[1;36m1\u001b[0m\u001b[1;33m]\u001b[0m\u001b[1;33m\u001b[0m\u001b[1;33m\u001b[0m\u001b[0m\n\u001b[0;32m      6\u001b[0m \u001b[1;31m# pass colors values to `color=`\u001b[0m\u001b[1;33m\u001b[0m\u001b[1;33m\u001b[0m\u001b[1;33m\u001b[0m\u001b[0m\n\u001b[1;32m----> 7\u001b[1;33m \u001b[0max\u001b[0m\u001b[1;33m.\u001b[0m\u001b[0mbarh\u001b[0m\u001b[1;33m(\u001b[0m\u001b[0mdeputados_totais\u001b[0m\u001b[1;33m,\u001b[0m \u001b[0mparticipacao_total\u001b[0m\u001b[1;33m,\u001b[0m \u001b[0mcolor\u001b[0m\u001b[1;33m=\u001b[0m\u001b[1;33m[\u001b[0m\u001b[0mcolors\u001b[0m\u001b[1;33m[\u001b[0m\u001b[0mgroup_lk\u001b[0m\u001b[1;33m[\u001b[0m\u001b[0mx\u001b[0m\u001b[1;33m]\u001b[0m\u001b[1;33m]\u001b[0m \u001b[1;32mfor\u001b[0m \u001b[0mx\u001b[0m \u001b[1;32min\u001b[0m \u001b[0mdeputados_totais\u001b[0m\u001b[1;33m]\u001b[0m\u001b[1;33m)\u001b[0m\u001b[1;33m\u001b[0m\u001b[1;33m\u001b[0m\u001b[0m\n\u001b[0m\u001b[0;32m      8\u001b[0m \u001b[1;31m# iterate over the values to plot labels and values (Tokyo, Asia, 38194.2)\u001b[0m\u001b[1;33m\u001b[0m\u001b[1;33m\u001b[0m\u001b[1;33m\u001b[0m\u001b[0m\n\u001b[0;32m      9\u001b[0m \u001b[1;32mfor\u001b[0m \u001b[0mi\u001b[0m\u001b[1;33m,\u001b[0m \u001b[1;33m(\u001b[0m\u001b[0mvalue\u001b[0m\u001b[1;33m,\u001b[0m \u001b[0mname\u001b[0m\u001b[1;33m)\u001b[0m \u001b[1;32min\u001b[0m \u001b[0menumerate\u001b[0m\u001b[1;33m(\u001b[0m\u001b[0mzip\u001b[0m\u001b[1;33m(\u001b[0m\u001b[0mparticipacao_total\u001b[0m\u001b[1;33m,\u001b[0m \u001b[0mdeputados_totais\u001b[0m\u001b[1;33m)\u001b[0m\u001b[1;33m)\u001b[0m\u001b[1;33m:\u001b[0m\u001b[1;33m\u001b[0m\u001b[1;33m\u001b[0m\u001b[0m\n",
      "\u001b[1;31mKeyError\u001b[0m: 'Policial Katia Sastre'"
     ]
    },
    {
     "data": {
      "image/png": "[encoded data removed]",
      "text/plain": [
       "<Figure size 1080x576 with 1 Axes>"
      ]
     },
     "metadata": {
      "needs_background": "light"
     },
     "output_type": "display_data"
    }
   ],
   "source": [
    "fig, ax = plt.subplots(figsize=(15, 8))\n",
    "#ax.barh(deputados, participacao)\n",
    "#fig, ax = plt.subplots(figsize=(15, 8))\n",
    "participacao_total = participacao_total[::-1]   # flip values from top to bottom\n",
    "deputados_totais=deputados_totais[::-1]\n",
    "# pass colors values to `color=`\n",
    "ax.barh(deputados_totais, participacao_total, color=[colors[group_lk[x]] for x in deputados_totais])\n",
    "# iterate over the values to plot labels and values (Tokyo, Asia, 38194.2)\n",
    "for i, (value, name) in enumerate(zip(participacao_total, deputados_totais)):\n",
    "    #ax.text(value, i,     name,            ha='right')  # Tokyo: name\n",
    "    ax.text(value, i-.25, group_lk[name],  ha=   'left')  # Asia: group name\n",
    "\n",
    "# Add year right middle portion of canvas\n",
    "ax.text(1, 0.4, '2019', transform=ax.transAxes, size=46, ha='right')\n",
    "plt.title('Participação na Câmara')\n",
    "plt.savefig('participacao_dep_menos.png')"
   ]
  },
  {
   "cell_type": "code",
   "execution_count": null,
   "metadata": {},
   "outputs": [],
   "source": []
  },
  {
   "cell_type": "code",
   "execution_count": null,
   "metadata": {},
   "outputs": [],
   "source": []
  },
  {
   "cell_type": "code",
   "execution_count": null,
   "metadata": {},
   "outputs": [],
   "source": []
  },
  {
   "cell_type": "code",
   "execution_count": null,
   "metadata": {},
   "outputs": [],
   "source": []
  },
  {
   "cell_type": "code",
   "execution_count": null,
   "metadata": {},
   "outputs": [],
   "source": []
  },
  {
   "cell_type": "code",
   "execution_count": 115,
   "metadata": {},
   "outputs": [],
   "source": []
  },
  {
   "cell_type": "code",
   "execution_count": null,
   "metadata": {},
   "outputs": [],
   "source": []
  },
  {
   "cell_type": "code",
   "execution_count": null,
   "metadata": {},
   "outputs": [],
   "source": []
  },
  {
   "cell_type": "code",
   "execution_count": null,
   "metadata": {},
   "outputs": [],
   "source": []
  },
  {
   "cell_type": "code",
   "execution_count": null,
   "metadata": {},
   "outputs": [],
   "source": []
  },
  {
   "cell_type": "code",
   "execution_count": 202,
   "metadata": {},
   "outputs": [],
   "source": []
  },
  {
   "cell_type": "code",
   "execution_count": null,
   "metadata": {},
   "outputs": [],
   "source": []
  },
  {
   "cell_type": "code",
   "execution_count": 62,
   "metadata": {},
   "outputs": [
    {
     "ename": "KeyError",
     "evalue": "'Eduardo Bolsonaro'",
     "output_type": "error",
     "traceback": [
      "\u001b[1;31m---------------------------------------------------------------------------\u001b[0m",
      "\u001b[1;31mKeyError\u001b[0m                                  Traceback (most recent call last)",
      "\u001b[1;32m<ipython-input-62-9f862195b0f3>\u001b[0m in \u001b[0;36m<module>\u001b[1;34m\u001b[0m\n\u001b[0;32m      5\u001b[0m \u001b[0mdeputados_totais\u001b[0m\u001b[1;33m=\u001b[0m\u001b[0mdeputados_totais\u001b[0m\u001b[1;33m[\u001b[0m\u001b[1;33m:\u001b[0m\u001b[1;33m:\u001b[0m\u001b[1;33m-\u001b[0m\u001b[1;36m1\u001b[0m\u001b[1;33m]\u001b[0m\u001b[1;33m\u001b[0m\u001b[1;33m\u001b[0m\u001b[0m\n\u001b[0;32m      6\u001b[0m \u001b[1;31m# pass colors values to `color=`\u001b[0m\u001b[1;33m\u001b[0m\u001b[1;33m\u001b[0m\u001b[1;33m\u001b[0m\u001b[0m\n\u001b[1;32m----> 7\u001b[1;33m \u001b[0max\u001b[0m\u001b[1;33m.\u001b[0m\u001b[0mbarh\u001b[0m\u001b[1;33m(\u001b[0m\u001b[0mdeputados_totais\u001b[0m\u001b[1;33m,\u001b[0m \u001b[0mparticipacao_total\u001b[0m\u001b[1;33m,\u001b[0m \u001b[0mcolor\u001b[0m\u001b[1;33m=\u001b[0m\u001b[1;33m[\u001b[0m\u001b[0mcolors\u001b[0m\u001b[1;33m[\u001b[0m\u001b[0mgroup_lk\u001b[0m\u001b[1;33m[\u001b[0m\u001b[0mx\u001b[0m\u001b[1;33m]\u001b[0m\u001b[1;33m]\u001b[0m \u001b[1;32mfor\u001b[0m \u001b[0mx\u001b[0m \u001b[1;32min\u001b[0m \u001b[0mdeputados_totais\u001b[0m\u001b[1;33m]\u001b[0m\u001b[1;33m)\u001b[0m\u001b[1;33m\u001b[0m\u001b[1;33m\u001b[0m\u001b[0m\n\u001b[0m\u001b[0;32m      8\u001b[0m \u001b[1;31m# iterate over the values to plot labels and values (Tokyo, Asia, 38194.2)\u001b[0m\u001b[1;33m\u001b[0m\u001b[1;33m\u001b[0m\u001b[1;33m\u001b[0m\u001b[0m\n\u001b[0;32m      9\u001b[0m \u001b[1;32mfor\u001b[0m \u001b[0mi\u001b[0m\u001b[1;33m,\u001b[0m \u001b[1;33m(\u001b[0m\u001b[0mvalue\u001b[0m\u001b[1;33m,\u001b[0m \u001b[0mname\u001b[0m\u001b[1;33m)\u001b[0m \u001b[1;32min\u001b[0m \u001b[0menumerate\u001b[0m\u001b[1;33m(\u001b[0m\u001b[0mzip\u001b[0m\u001b[1;33m(\u001b[0m\u001b[0mparticipacao_total\u001b[0m\u001b[1;33m,\u001b[0m \u001b[0mdeputados_totais\u001b[0m\u001b[1;33m)\u001b[0m\u001b[1;33m)\u001b[0m\u001b[1;33m:\u001b[0m\u001b[1;33m\u001b[0m\u001b[1;33m\u001b[0m\u001b[0m\n",
      "\u001b[1;32m<ipython-input-62-9f862195b0f3>\u001b[0m in \u001b[0;36m<listcomp>\u001b[1;34m(.0)\u001b[0m\n\u001b[0;32m      5\u001b[0m \u001b[0mdeputados_totais\u001b[0m\u001b[1;33m=\u001b[0m\u001b[0mdeputados_totais\u001b[0m\u001b[1;33m[\u001b[0m\u001b[1;33m:\u001b[0m\u001b[1;33m:\u001b[0m\u001b[1;33m-\u001b[0m\u001b[1;36m1\u001b[0m\u001b[1;33m]\u001b[0m\u001b[1;33m\u001b[0m\u001b[1;33m\u001b[0m\u001b[0m\n\u001b[0;32m      6\u001b[0m \u001b[1;31m# pass colors values to `color=`\u001b[0m\u001b[1;33m\u001b[0m\u001b[1;33m\u001b[0m\u001b[1;33m\u001b[0m\u001b[0m\n\u001b[1;32m----> 7\u001b[1;33m \u001b[0max\u001b[0m\u001b[1;33m.\u001b[0m\u001b[0mbarh\u001b[0m\u001b[1;33m(\u001b[0m\u001b[0mdeputados_totais\u001b[0m\u001b[1;33m,\u001b[0m \u001b[0mparticipacao_total\u001b[0m\u001b[1;33m,\u001b[0m \u001b[0mcolor\u001b[0m\u001b[1;33m=\u001b[0m\u001b[1;33m[\u001b[0m\u001b[0mcolors\u001b[0m\u001b[1;33m[\u001b[0m\u001b[0mgroup_lk\u001b[0m\u001b[1;33m[\u001b[0m\u001b[0mx\u001b[0m\u001b[1;33m]\u001b[0m\u001b[1;33m]\u001b[0m \u001b[1;32mfor\u001b[0m \u001b[0mx\u001b[0m \u001b[1;32min\u001b[0m \u001b[0mdeputados_totais\u001b[0m\u001b[1;33m]\u001b[0m\u001b[1;33m)\u001b[0m\u001b[1;33m\u001b[0m\u001b[1;33m\u001b[0m\u001b[0m\n\u001b[0m\u001b[0;32m      8\u001b[0m \u001b[1;31m# iterate over the values to plot labels and values (Tokyo, Asia, 38194.2)\u001b[0m\u001b[1;33m\u001b[0m\u001b[1;33m\u001b[0m\u001b[1;33m\u001b[0m\u001b[0m\n\u001b[0;32m      9\u001b[0m \u001b[1;32mfor\u001b[0m \u001b[0mi\u001b[0m\u001b[1;33m,\u001b[0m \u001b[1;33m(\u001b[0m\u001b[0mvalue\u001b[0m\u001b[1;33m,\u001b[0m \u001b[0mname\u001b[0m\u001b[1;33m)\u001b[0m \u001b[1;32min\u001b[0m \u001b[0menumerate\u001b[0m\u001b[1;33m(\u001b[0m\u001b[0mzip\u001b[0m\u001b[1;33m(\u001b[0m\u001b[0mparticipacao_total\u001b[0m\u001b[1;33m,\u001b[0m \u001b[0mdeputados_totais\u001b[0m\u001b[1;33m)\u001b[0m\u001b[1;33m)\u001b[0m\u001b[1;33m:\u001b[0m\u001b[1;33m\u001b[0m\u001b[1;33m\u001b[0m\u001b[0m\n",
      "\u001b[1;31mKeyError\u001b[0m: 'Eduardo Bolsonaro'"
     ]
    },
    {
     "data": {
      "image/png": "[encoded data removed]",
      "text/plain": [
       "<Figure size 1080x576 with 1 Axes>"
      ]
     },
     "metadata": {
      "needs_background": "light"
     },
     "output_type": "display_data"
    }
   ],
   "source": [
    "fig, ax = plt.subplots(figsize=(15, 8))\n",
    "#ax.barh(deputados, participacao)\n",
    "#fig, ax = plt.subplots(figsize=(15, 8))\n",
    "participacao_total = participacao_total[::-1]   # flip values from top to bottom\n",
    "deputados_totais=deputados_totais[::-1]\n",
    "# pass colors values to `color=`\n",
    "ax.barh(deputados_totais, participacao_total, color=[colors[group_lk[x]] for x in deputados_totais])\n",
    "# iterate over the values to plot labels and values (Tokyo, Asia, 38194.2)\n",
    "for i, (value, name) in enumerate(zip(participacao_total, deputados_totais)):\n",
    "    #ax.text(value, i,     name,            ha='right')  # Tokyo: name\n",
    "    ax.text(value, i-.25, group_lk[name],  ha=   'left')  # Asia: group name\n",
    "\n",
    "# Add year right middle portion of canvas\n",
    "ax.text(1, 0.4, '2019', transform=ax.transAxes, size=46, ha='right')\n",
    "plt.title('Participação na Câmara')\n",
    "plt.savefig('participacao_dep_menos.png')"
   ]
  },
  {
   "cell_type": "markdown",
   "metadata": {},
   "source": [
    "Concatenando discursos dos partidos e gerando os indicadores de cada tema a partir da funça re "
   ]
  },
  {
   "cell_type": "code",
   "execution_count": 26,
   "metadata": {},
   "outputs": [],
   "source": [
    "data3=pd.read_csv(outPath,sep=';')\n",
    "discurso_pt=[]\n",
    "for i in range(0,len(data3)):\n",
    "    if data3.iloc[i,8]=='PT':\n",
    "        a=data3.iloc[i,1]\n",
    "        discurso_pt.append(a)\n",
    "\n"
   ]
  },
  {
   "cell_type": "code",
   "execution_count": 27,
   "metadata": {},
   "outputs": [],
   "source": [
    "list_words=discurso_pt"
   ]
  },
  {
   "cell_type": "code",
   "execution_count": 30,
   "metadata": {},
   "outputs": [],
   "source": [
    "#INDICADORES PT \n",
    "seg=re.findall('seguran',str(list_words))\n",
    "seguranca_pt=len(seg)\n",
    "prev=re.findall('previd',str(list_words))\n",
    "previdencia_pt=len(prev)\n",
    "educ=re.findall('educ',str(list_words))\n",
    "educacao_pt=len(educ)\n",
    "trab=re.findall('trabalhadores',str(list_words))\n",
    "trabalho_pt=len(trab)\n",
    "sau=re.findall('saúde',str(list_words))\n",
    "saude_pt=len(sau)\n",
    "des=re.findall('desigualdade',str(list_words))\n",
    "desigualdade_pt=len(des)\n",
    "trib=re.findall('impostos',str(list_words))\n",
    "tributos_pt=len(trib)\n",
    "eco=re.findall('crescimento econômico',str(list_words))\n",
    "cresc_pt=len(eco)"
   ]
  },
  {
   "cell_type": "code",
   "execution_count": 31,
   "metadata": {},
   "outputs": [],
   "source": [
    "discurso_psl=[]\n",
    "for i in range(0,len(data3)):\n",
    "    if data3.iloc[i,8]=='PSL':\n",
    "        a=data3.iloc[i,1]\n",
    "        discurso_psl.append(a)"
   ]
  },
  {
   "cell_type": "code",
   "execution_count": 32,
   "metadata": {},
   "outputs": [],
   "source": [
    "#INDICADORES PSL\n",
    "seg1=re.findall('seguran',str(discurso_psl))\n",
    "seguranca_psl=len(seg1)\n",
    "prev1=re.findall('previd',str(discurso_psl))\n",
    "previdencia_psl=len(prev1)\n",
    "educ1=re.findall('educ',str(discurso_psl))\n",
    "educacao_psl=len(educ1)\n",
    "trab1=re.findall('trabalhadores',str(discurso_psl))\n",
    "trabalho_psl=len(trab1)\n",
    "sau1=re.findall('saúde',str(discurso_psl))\n",
    "saude_psl=len(sau1)\n",
    "des1=re.findall('desigualdade',str(discurso_psl))\n",
    "desigualdade_psl=len(des1)\n",
    "trib1=re.findall('impostos',str(discurso_psl))\n",
    "tributos_psl=len(trib1)\n",
    "eco1=re.findall('crescimento econômico',str(discurso_psl))\n",
    "cresc_psl=len(eco1)\n"
   ]
  },
  {
   "cell_type": "code",
   "execution_count": 33,
   "metadata": {},
   "outputs": [],
   "source": [
    "discurso_dem=[]\n",
    "for i in range(0,len(data3)):\n",
    "    if data3.iloc[i,8]=='DEM':\n",
    "        a=data3.iloc[i,1]\n",
    "        discurso_dem.append(a)\n"
   ]
  },
  {
   "cell_type": "code",
   "execution_count": 34,
   "metadata": {},
   "outputs": [],
   "source": [
    "#INDICADORES DEM\n",
    "seg2=re.findall('seguran',str(discurso_dem))\n",
    "seguranca_dem=len(seg2)\n",
    "prev2=re.findall('previd',str(discurso_dem))\n",
    "previdencia_dem=len(prev2)\n",
    "educ2=re.findall('educ',str(discurso_dem))\n",
    "educacao_dem=len(educ2)\n",
    "trab2=re.findall('trabalhadores',str(discurso_dem))\n",
    "trabalho_dem=len(trab2)\n",
    "sau2=re.findall('saúde',str(discurso_dem))\n",
    "saude_dem=len(sau2)\n",
    "des2=re.findall('desigualdade',str(discurso_dem))\n",
    "desigualdade_dem=len(des2)\n",
    "trib2=re.findall('impostos',str(discurso_dem))\n",
    "tributos_dem=len(trib2)\n",
    "eco2=re.findall('crescimento econômico',str(discurso_dem))\n",
    "cresc_dem=len(eco2)\n"
   ]
  },
  {
   "cell_type": "code",
   "execution_count": 35,
   "metadata": {},
   "outputs": [],
   "source": [
    "discurso_psol=[]\n",
    "for i in range(0,len(data3)):\n",
    "    if data3.iloc[i,8]=='PSOL':\n",
    "        a=data3.iloc[i,1]\n",
    "        discurso_psol.append(a)"
   ]
  },
  {
   "cell_type": "code",
   "execution_count": 36,
   "metadata": {},
   "outputs": [],
   "source": [
    "#INDICADORES PSOL\n",
    "seg3=re.findall('seguran',str(discurso_psol))\n",
    "seguranca_psol=len(seg3)\n",
    "prev3=re.findall('previd',str(discurso_psol))\n",
    "previdencia_psol=len(prev3)\n",
    "educ3=re.findall('educ',str(discurso_psol))\n",
    "educacao_psol=len(educ3)\n",
    "trab3=re.findall('trabalhadores',str(discurso_psol))\n",
    "trabalho_psol=len(trab3)\n",
    "sau3=re.findall('saúde',str(discurso_psol))\n",
    "saude_psol=len(sau3)\n",
    "des3=re.findall('desigualdade',str(discurso_psol))\n",
    "desigualdade_psol=len(des3)\n",
    "trib3=re.findall('impostos',str(discurso_psol))\n",
    "tributos_psol=len(trib3)\n",
    "eco3=re.findall('crescimento econômico',str(discurso_psol))\n",
    "cresc_psol=len(eco3)\n"
   ]
  },
  {
   "cell_type": "code",
   "execution_count": 37,
   "metadata": {},
   "outputs": [],
   "source": [
    "discurso_psb=[]\n",
    "for i in range(0,len(data3)):\n",
    "    if data3.iloc[i,8]=='PSOL':\n",
    "        a=data3.iloc[i,1]\n",
    "        discurso_psb.append(a)"
   ]
  },
  {
   "cell_type": "code",
   "execution_count": 38,
   "metadata": {},
   "outputs": [],
   "source": [
    "#INDICADORES PSB\n",
    "seg4=re.findall('seguran',str(discurso_psb))\n",
    "seguranca_psb=len(seg4)\n",
    "prev4=re.findall('previd',str(discurso_psb))\n",
    "previdencia_psb=len(prev4)\n",
    "educ4=re.findall('educ',str(discurso_psb))\n",
    "educacao_psb=len(educ4)\n",
    "trab4=re.findall('trabalhadores',str(discurso_psb))\n",
    "trabalho_psb=len(trab4)\n",
    "sau4=re.findall('saúde',str(discurso_psb))\n",
    "saude_psb=len(sau4)\n",
    "des4=re.findall('desigualdade',str(discurso_psb))\n",
    "desigualdade_psb=len(des4)\n",
    "trib4=re.findall('impostos',str(discurso_psb))\n",
    "tributos_psb=len(trib4)\n",
    "eco4=re.findall('crescimento econômico',str(discurso_psb))\n",
    "cresc_psb=len(eco4)\n"
   ]
  },
  {
   "cell_type": "code",
   "execution_count": 39,
   "metadata": {},
   "outputs": [],
   "source": [
    "discurso_pcdob=[]\n",
    "for i in range(0,len(data3)):\n",
    "    if data3.iloc[i,8]=='PCdoB':\n",
    "        a=data3.iloc[i,1]\n",
    "        discurso_pcdob.append(a)"
   ]
  },
  {
   "cell_type": "code",
   "execution_count": 40,
   "metadata": {},
   "outputs": [],
   "source": [
    "#INDICADORES PCdoB\n",
    "seg5=re.findall('seguran',str(discurso_pcdob))\n",
    "seguranca_pcdob=len(seg5)\n",
    "prev5=re.findall('previd',str(discurso_pcdob))\n",
    "previdencia_pcdob=len(prev5)\n",
    "educ5=re.findall('educ',str(discurso_pcdob))\n",
    "educacao_pcdob=len(educ5)\n",
    "trab5=re.findall('trabalhadores',str(discurso_pcdob))\n",
    "trabalho_pcdob=len(trab5)\n",
    "sau5=re.findall('saúde',str(discurso_pcdob))\n",
    "saude_pcdob=len(sau5)\n",
    "des5=re.findall('desigualdade',str(discurso_pcdob))\n",
    "desigualdade_pcdob=len(des5)\n",
    "tri5=re.findall('impostos',str(discurso_pcdob))\n",
    "tributos_pcdob=len(tri5)\n",
    "eco5=re.findall('crescimento econômico',str(discurso_pcdob))\n",
    "cresc_pcdob=len(eco5)\n"
   ]
  },
  {
   "cell_type": "code",
   "execution_count": 41,
   "metadata": {},
   "outputs": [],
   "source": [
    "discurso_solida=[]\n",
    "for i in range(0,len(data3)):\n",
    "    if data3.iloc[i,8]=='SOLIDARIEDADE':\n",
    "        a=data3.iloc[i,1]\n",
    "        discurso_solida.append(a)"
   ]
  },
  {
   "cell_type": "code",
   "execution_count": 42,
   "metadata": {},
   "outputs": [],
   "source": [
    "#INDICADORES Solidariedade\n",
    "seg6=re.findall('seguran',str(discurso_solida))\n",
    "seguranca_solida=len(seg6)\n",
    "prev6=re.findall('previd',str(discurso_solida))\n",
    "previdencia_solida=len(prev6)\n",
    "educ6=re.findall('educ',str(discurso_solida))\n",
    "educacao_solida=len(educ6)\n",
    "trab6=re.findall('trabalhadores',str(discurso_solida))\n",
    "trabalho_solida=len(trab6)\n",
    "sau6=re.findall('saúde',str(discurso_solida))\n",
    "saude_solida=len(sau6)\n",
    "des6=re.findall('desigualdade',str(discurso_solida))\n",
    "desigualdade_solida=len(des6)\n",
    "tri6=re.findall('impostos',str(discurso_solida))\n",
    "tributos_solida=len(tri6)\n",
    "eco6=re.findall('crescimento econômico',str(discurso_solida))\n",
    "cresc_solida=len(eco6)\n"
   ]
  },
  {
   "cell_type": "code",
   "execution_count": 43,
   "metadata": {},
   "outputs": [],
   "source": [
    "discurso_pp=[]\n",
    "for i in range(0,len(data3)):\n",
    "    if data3.iloc[i,8]=='PP':\n",
    "        a=data3.iloc[i,1]\n",
    "        discurso_pp.append(a)"
   ]
  },
  {
   "cell_type": "code",
   "execution_count": 44,
   "metadata": {},
   "outputs": [],
   "source": [
    "#INDICADORES PP\n",
    "seg7=re.findall('seguran',str(discurso_pp))\n",
    "seguranca_pp=len(seg7)\n",
    "prev7=re.findall('previd',str(discurso_pp))\n",
    "previdencia_pp=len(prev7)\n",
    "educ7=re.findall('educ',str(discurso_pp))\n",
    "educacao_pp=len(educ7)\n",
    "trab7=re.findall('trabalhadores',str(discurso_pp))\n",
    "trabalho_pp=len(trab7)\n",
    "sau7=re.findall('saúde',str(discurso_pp))\n",
    "saude_pp=len(sau7)\n",
    "des7=re.findall('desigualdade',str(discurso_pp))\n",
    "desigualdade_pp=len(des7)\n",
    "tri7=re.findall('impostos',str(discurso_pp))\n",
    "tributos_pp=len(tri7)\n",
    "eco7=re.findall('crescimento econômico',str(discurso_pp))\n",
    "cresc_pp=len(eco7)\n"
   ]
  },
  {
   "cell_type": "code",
   "execution_count": 45,
   "metadata": {},
   "outputs": [],
   "source": [
    "discurso_pdt=[]\n",
    "for i in range(0,len(data3)):\n",
    "    if data3.iloc[i,8]=='PDT':\n",
    "        a=data3.iloc[i,1]\n",
    "        discurso_pdt.append(a)"
   ]
  },
  {
   "cell_type": "code",
   "execution_count": 46,
   "metadata": {},
   "outputs": [],
   "source": [
    "#INDICADORES PDT\n",
    "seg8=re.findall('seguran',str(discurso_pdt))\n",
    "seguranca_pdt=len(seg8)\n",
    "prev8=re.findall('previd',str(discurso_pdt))\n",
    "previdencia_pdt=len(prev8)\n",
    "educ8=re.findall('educ',str(discurso_pdt))\n",
    "educacao_pdt=len(educ8)\n",
    "trab8=re.findall('trabalhadores',str(discurso_pdt))\n",
    "trabalho_pdt=len(trab8)\n",
    "sau8=re.findall('saúde',str(discurso_pdt))\n",
    "saude_pdt=len(sau8)\n",
    "des8=re.findall('desigualdade',str(discurso_pdt))\n",
    "desigualdade_pdt=len(des8)\n",
    "tri8=re.findall('impostos',str(discurso_pdt))\n",
    "tributos_pdt=len(tri8)\n",
    "eco8=re.findall('crescimento econômico',str(discurso_pdt))\n",
    "cresc_pdt=len(eco8)"
   ]
  },
  {
   "cell_type": "code",
   "execution_count": 47,
   "metadata": {},
   "outputs": [],
   "source": [
    "#INDICADORES PP\n",
    "seg9=re.findall('seguran',str(discurso_pdt))\n",
    "seguranca_pp=len(seg9)\n",
    "prev9=re.findall('previd',str(discurso_pdt))\n",
    "previdencia_pp=len(prev9)\n",
    "educ9=re.findall('educ',str(discurso_pdt))\n",
    "educacao_pp=len(educ9)\n",
    "trab9=re.findall('trabalhadores',str(discurso_pdt))\n",
    "trabalho_pp=len(trab9)\n",
    "sau9=re.findall('saúde',str(discurso_pdt))\n",
    "saude_pp=len(sau9)\n",
    "des9=re.findall('desigualdade',str(discurso_pdt))\n",
    "desigualdade_pp=len(des9)\n",
    "tri9=re.findall('impostos',str(discurso_pdt))\n",
    "tributos_pp=len(tri9)\n",
    "eco9=re.findall('crescimento econômico',str(discurso_pdt))\n",
    "cresc_pp=len(eco9)"
   ]
  },
  {
   "cell_type": "code",
   "execution_count": 48,
   "metadata": {},
   "outputs": [],
   "source": [
    "discurso_psdb=[]\n",
    "for i in range(0,len(data3)):\n",
    "    if data3.iloc[i,8]=='PSDB':\n",
    "        a=data3.iloc[i,1]\n",
    "        discurso_psdb.append(a)"
   ]
  },
  {
   "cell_type": "code",
   "execution_count": 49,
   "metadata": {},
   "outputs": [],
   "source": [
    "#INDICADORES PSDB\n",
    "seg10=re.findall('seguran',str(discurso_psdb))\n",
    "seguranca_psdb=len(seg10)\n",
    "prev10=re.findall('previd',str(discurso_psdb))\n",
    "previdencia_psdb=len(prev10)\n",
    "educ10=re.findall('educ',str(discurso_psdb))\n",
    "educacao_psdb=len(educ10)\n",
    "trab10=re.findall('trabalhadores',str(discurso_psdb))\n",
    "trabalho_psdb=len(trab10)\n",
    "sau10=re.findall('saúde',str(discurso_psdb))\n",
    "saude_psdb=len(sau10)\n",
    "des10=re.findall('desigualdade',str(discurso_psdb))\n",
    "desigualdade_psdb=len(des10)\n",
    "tri10=re.findall('impostos',str(discurso_psdb))\n",
    "tributos_psdb=len(tri10)\n",
    "eco10=re.findall('crescimento econômico',str(discurso_psdb))\n",
    "cresc_psdb=len(eco10)"
   ]
  },
  {
   "cell_type": "code",
   "execution_count": 50,
   "metadata": {},
   "outputs": [],
   "source": [
    "import numpy as np \n",
    "import matplotlib.pyplot as plt\n",
    "\n",
    "Partidos=['PT','PSDB','PSL','DEM','PSB','PCdoB','PSOL','SOLIDARIEDADE','PDT']\n"
   ]
  },
  {
   "cell_type": "code",
   "execution_count": 51,
   "metadata": {},
   "outputs": [
    {
     "data": {
      "image/png": "[encoded data removed]",
      "text/plain": [
       "<Figure size 1008x432 with 1 Axes>"
      ]
     },
     "metadata": {
      "needs_background": "light"
     },
     "output_type": "display_data"
    }
   ],
   "source": [
    "#Grafico para o PT: \n",
    "assuntos_pt=['Segurança Publica','Prevdência','Educação','Trabalho','Saúde','Desigualdade',\n",
    "            'Tributos','Crescimento Econômico']\n",
    "topicos_pt=[seguranca_pt,previdencia_pt,educacao_pt,trabalho_pt,saude_pt,\n",
    "            desigualdade_pt,tributos_pt,cresc_pt]\n",
    "\n",
    "plt.figure(figsize=(14, 6))\n",
    "plt.bar(assuntos_pt,topicos_pt,color=\"red\")\n",
    "plt.title('8 Tópicos mais abordados pelo PT')\n",
    "plt.savefig('pt.png')"
   ]
  },
  {
   "cell_type": "code",
   "execution_count": 52,
   "metadata": {},
   "outputs": [
    {
     "data": {
      "image/png": "[encoded data removed]",
      "text/plain": [
       "<Figure size 1008x432 with 1 Axes>"
      ]
     },
     "metadata": {
      "needs_background": "light"
     },
     "output_type": "display_data"
    }
   ],
   "source": [
    "#Grafico para o PSDB: \n",
    "assuntos_pt=['Segurança Publica','Prevdência','Educação','Trabalho','Saúde','Desigualdade',\n",
    "            'Tributos','Crescimento Econômico']\n",
    "topicos_psdb=[seguranca_psdb,previdencia_psdb,educacao_psdb,trabalho_psdb,saude_psdb,\n",
    "            desigualdade_psdb,tributos_psdb,cresc_psdb]\n",
    "\n",
    "plt.figure(figsize=(14, 6))\n",
    "plt.bar(assuntos_pt,topicos_psdb,color=\"blue\")\n",
    "plt.title('8 Tópicos mais abordados pelo PSDB')\n",
    "plt.savefig('psdb.png')"
   ]
  },
  {
   "cell_type": "code",
   "execution_count": 53,
   "metadata": {},
   "outputs": [
    {
     "data": {
      "image/png": "[encoded data removed]",
      "text/plain": [
       "<Figure size 1008x432 with 1 Axes>"
      ]
     },
     "metadata": {
      "needs_background": "light"
     },
     "output_type": "display_data"
    }
   ],
   "source": [
    "#Grafico para o PSL: \n",
    "assuntos_pt=['Segurança Publica','Prevdência','Educação','Trabalho','Saúde','Desigualdade',\n",
    "            'Tributos','Crescimento Econômico']\n",
    "topicos_psl=[seguranca_psl,previdencia_psl,educacao_psl,trabalho_psl,saude_psl,\n",
    "            desigualdade_psl,tributos_psl,cresc_psl]\n",
    "\n",
    "plt.figure(figsize=(14, 6))\n",
    "plt.bar(assuntos_pt,topicos_psl,color=\"blue\")\n",
    "plt.title('8 Tópicos mais abordados pelo PSL')\n",
    "plt.savefig('psl.png')"
   ]
  },
  {
   "cell_type": "code",
   "execution_count": 54,
   "metadata": {},
   "outputs": [
    {
     "data": {
      "image/png": "[encoded data removed]",
      "text/plain": [
       "<Figure size 1008x432 with 1 Axes>"
      ]
     },
     "metadata": {
      "needs_background": "light"
     },
     "output_type": "display_data"
    }
   ],
   "source": [
    "#Grafico para o DEM: \n",
    "assuntos_pt=['Segurança Publica','Prevdência','Educação','Trabalho','Saúde','Desigualdade',\n",
    "            'Tributos','Crescimento Econômico']\n",
    "topicos_dem=[seguranca_dem,previdencia_dem,educacao_dem,trabalho_dem,saude_dem,\n",
    "            desigualdade_dem,tributos_dem,cresc_dem]\n",
    "\n",
    "plt.figure(figsize=(14, 6))\n",
    "plt.bar(assuntos_pt,topicos_dem,color=\"blue\")\n",
    "plt.title('8 Tópicos mais abordados pelo DEM')\n",
    "plt.savefig('dem.png')"
   ]
  },
  {
   "cell_type": "code",
   "execution_count": 55,
   "metadata": {},
   "outputs": [
    {
     "data": {
      "image/png": "[encoded data removed]",
      "text/plain": [
       "<Figure size 1008x432 with 1 Axes>"
      ]
     },
     "metadata": {
      "needs_background": "light"
     },
     "output_type": "display_data"
    }
   ],
   "source": [
    "#Grafico para o PSB: \n",
    "assuntos_pt=['Segurança Publica','Prevdência','Educação','Trabalho','Saúde','Desigualdade',\n",
    "            'Tributos','Crescimento Econômico']\n",
    "topicos_psb=[seguranca_psb,previdencia_psb,educacao_psb,trabalho_psb,saude_psb,\n",
    "            desigualdade_psb,tributos_psb,cresc_psb]\n",
    "\n",
    "plt.figure(figsize=(14, 6))\n",
    "plt.bar(assuntos_pt,topicos_psb,color=\"red\")\n",
    "plt.title('8 Tópicos mais abordados pelo PSB')\n",
    "plt.savefig('psb.png')"
   ]
  },
  {
   "cell_type": "code",
   "execution_count": 56,
   "metadata": {
    "scrolled": true
   },
   "outputs": [
    {
     "data": {
      "image/png": "[encoded data removed]",
      "text/plain": [
       "<Figure size 1008x432 with 1 Axes>"
      ]
     },
     "metadata": {
      "needs_background": "light"
     },
     "output_type": "display_data"
    }
   ],
   "source": [
    "#Grafico para o PCdoB: \n",
    "assuntos_pt=['Segurança Publica','Prevdência','Educação','Trabalho','Saúde','Desigualdade',\n",
    "            'Tributos','Crescimento Econômico']\n",
    "topicos_pcdob=[seguranca_pcdob,previdencia_pcdob,educacao_pcdob,trabalho_pcdob,saude_pcdob,\n",
    "            desigualdade_pcdob,tributos_pcdob,cresc_pcdob]\n",
    "\n",
    "plt.figure(figsize=(14, 6))\n",
    "plt.bar(assuntos_pt,topicos_pcdob,color=\"red\")\n",
    "plt.title('8 Tópicos mais abordados pelo PCdoB')\n",
    "plt.savefig('pcdob.png')"
   ]
  },
  {
   "cell_type": "code",
   "execution_count": null,
   "metadata": {},
   "outputs": [],
   "source": []
  },
  {
   "cell_type": "code",
   "execution_count": 57,
   "metadata": {
    "scrolled": true
   },
   "outputs": [
    {
     "data": {
      "image/png": "[encoded data removed]",
      "text/plain": [
       "<Figure size 1008x432 with 1 Axes>"
      ]
     },
     "metadata": {
      "needs_background": "light"
     },
     "output_type": "display_data"
    }
   ],
   "source": [
    "#Grafico para o PSOL: \n",
    "assuntos_pt=['Seg. Publica','Prevdência','Educação','Trabalho','Saúde','Desigualdade',\n",
    "            'Tributos','Crescimento Econômico']\n",
    "topicos_psol=[seguranca_psol,previdencia_psol,educacao_psol,trabalho_psol,saude_psol,\n",
    "            desigualdade_psol,tributos_psol,cresc_psol]\n",
    "\n",
    "\n",
    "\n",
    "plt.figure(figsize=(14, 6))\n",
    "plt.bar(assuntos_pt,topicos_psol,color=\"red\")\n",
    "plt.title('8 Tópicos mais abordados pelo PSOL')\n",
    "plt.savefig('psol.png')\n"
   ]
  },
  {
   "cell_type": "code",
   "execution_count": 58,
   "metadata": {},
   "outputs": [
    {
     "data": {
      "image/png": "[encoded data removed]",
      "text/plain": [
       "<Figure size 1008x432 with 1 Axes>"
      ]
     },
     "metadata": {
      "needs_background": "light"
     },
     "output_type": "display_data"
    }
   ],
   "source": [
    "#Grafico para o Solidariedade: \n",
    "assuntos_pt=['Segurança Publica','Prevdência','Educação','Trabalho','Saúde','Desigualdade',\n",
    "            'Tributos','Crescimento Econômico']\n",
    "topicos_solida=[seguranca_solida,previdencia_solida,educacao_solida,trabalho_solida,saude_solida,\n",
    "            desigualdade_solida,tributos_solida,cresc_solida]\n",
    "\n",
    "plt.figure(figsize=(14, 6))\n",
    "plt.bar(assuntos_pt,topicos_solida,color=\"yellow\")\n",
    "plt.title('8 Tópicos mais abordados pelo Solidariedade')\n",
    "plt.savefig('solidariedade.png')"
   ]
  },
  {
   "cell_type": "code",
   "execution_count": 59,
   "metadata": {},
   "outputs": [
    {
     "data": {
      "image/png": "[encoded data removed]",
      "text/plain": [
       "<Figure size 1008x432 with 1 Axes>"
      ]
     },
     "metadata": {
      "needs_background": "light"
     },
     "output_type": "display_data"
    }
   ],
   "source": [
    "#Grafico para o PDT: \n",
    "assuntos_pt=['Segurança Publica','Prevdência','Educação','Trabalho','Saúde','Desigualdade',\n",
    "            'Tributos','Crescimento Econômico']\n",
    "topicos_solida=[seguranca_pdt,previdencia_pdt,educacao_pdt,trabalho_pdt,saude_pdt,\n",
    "            desigualdade_pdt,tributos_pdt,cresc_pdt]\n",
    "\n",
    "plt.figure(figsize=(14, 6))\n",
    "plt.bar(assuntos_pt,topicos_solida,color=\"yellow\")\n",
    "plt.title('8 Tópicos mais abordados pelo PDT')\n",
    "plt.savefig('pdt.png')"
   ]
  },
  {
   "cell_type": "code",
   "execution_count": 60,
   "metadata": {},
   "outputs": [
    {
     "data": {
      "text/plain": [
       "['PT', 'PSDB', 'PSL', 'DEM', 'PSB', 'PCdoB', 'PSOL', 'SOLIDARIEDADE', 'PDT']"
      ]
     },
     "execution_count": 60,
     "metadata": {},
     "output_type": "execute_result"
    }
   ],
   "source": [
    "Partidos"
   ]
  },
  {
   "cell_type": "code",
   "execution_count": null,
   "metadata": {},
   "outputs": [],
   "source": []
  },
  {
   "cell_type": "code",
   "execution_count": null,
   "metadata": {},
   "outputs": [],
   "source": []
  },
  {
   "cell_type": "code",
   "execution_count": null,
   "metadata": {
    "scrolled": false
   },
   "outputs": [],
   "source": []
  },
  {
   "cell_type": "code",
   "execution_count": null,
   "metadata": {},
   "outputs": [],
   "source": []
  },
  {
   "cell_type": "code",
   "execution_count": 180,
   "metadata": {},
   "outputs": [],
   "source": []
  },
  {
   "cell_type": "code",
   "execution_count": null,
   "metadata": {},
   "outputs": [],
   "source": []
  },
  {
   "cell_type": "code",
   "execution_count": null,
   "metadata": {},
   "outputs": [],
   "source": []
  },
  {
   "cell_type": "code",
   "execution_count": null,
   "metadata": {},
   "outputs": [],
   "source": []
  },
  {
   "cell_type": "code",
   "execution_count": null,
   "metadata": {},
   "outputs": [],
   "source": []
  },
  {
   "cell_type": "code",
   "execution_count": null,
   "metadata": {},
   "outputs": [],
   "source": []
  },
  {
   "cell_type": "code",
   "execution_count": null,
   "metadata": {},
   "outputs": [],
   "source": []
  },
  {
   "cell_type": "code",
   "execution_count": null,
   "metadata": {},
   "outputs": [],
   "source": []
  },
  {
   "cell_type": "code",
   "execution_count": null,
   "metadata": {},
   "outputs": [],
   "source": []
  },
  {
   "cell_type": "code",
   "execution_count": null,
   "metadata": {},
   "outputs": [],
   "source": []
  },
  {
   "cell_type": "code",
   "execution_count": null,
   "metadata": {},
   "outputs": [],
   "source": []
  },
  {
   "cell_type": "code",
   "execution_count": null,
   "metadata": {},
   "outputs": [],
   "source": []
  },
  {
   "cell_type": "code",
   "execution_count": null,
   "metadata": {},
   "outputs": [],
   "source": []
  },
  {
   "cell_type": "code",
   "execution_count": null,
   "metadata": {},
   "outputs": [],
   "source": []
  },
  {
   "cell_type": "code",
   "execution_count": null,
   "metadata": {},
   "outputs": [],
   "source": []
  },
  {
   "cell_type": "code",
   "execution_count": null,
   "metadata": {},
   "outputs": [],
   "source": []
  },
  {
   "cell_type": "code",
   "execution_count": null,
   "metadata": {},
   "outputs": [],
   "source": []
  },
  {
   "cell_type": "code",
   "execution_count": null,
   "metadata": {},
   "outputs": [],
   "source": []
  },
  {
   "cell_type": "code",
   "execution_count": 119,
   "metadata": {},
   "outputs": [],
   "source": []
  },
  {
   "cell_type": "code",
   "execution_count": 122,
   "metadata": {},
   "outputs": [],
   "source": []
  },
  {
   "cell_type": "code",
   "execution_count": null,
   "metadata": {},
   "outputs": [],
   "source": []
  },
  {
   "cell_type": "code",
   "execution_count": null,
   "metadata": {},
   "outputs": [],
   "source": []
  }
 ],
 "metadata": {
  "kernelspec": {
   "display_name": "Python 3",
   "language": "python",
   "name": "python3"
  },
  "language_info": {
   "codemirror_mode": {
    "name": "ipython",
    "version": 3
   },
   "file_extension": ".py",
   "mimetype": "text/x-python",
   "name": "python",
   "nbconvert_exporter": "python",
   "pygments_lexer": "ipython3",
   "version": "3.7.3"
  }
 },
 "nbformat": 4,
 "nbformat_minor": 2
}
