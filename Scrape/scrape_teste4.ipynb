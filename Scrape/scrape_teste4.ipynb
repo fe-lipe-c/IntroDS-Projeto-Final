{
 "cells": [
  {
   "cell_type": "code",
   "execution_count": 2,
   "metadata": {},
   "outputs": [],
   "source": [
    "import time\n",
    "from selenium import webdriver\n",
    "from selenium.webdriver.firefox.options import Options\n",
    "import json\n",
    "import os.path\n",
    "from datetime import date\n",
    "from datetime import datetime\n",
    "\n",
    "import logging\n",
    "\n",
    "import requests\n",
    "\n",
    "import zipfile,fnmatch\n",
    "import os,os.path,sys\n",
    "\n",
    "import pickle"
   ]
  },
  {
   "cell_type": "code",
   "execution_count": 3,
   "metadata": {},
   "outputs": [],
   "source": [
    "def scrape(inicio=0,fim=10):\n",
    "    \n",
    "    logger = logging.getLogger('ftpuploader')\n",
    "    hdlr = logging.FileHandler('ftplog.log')\n",
    "    formatter = logging.Formatter('%(asctime)s %(levelname)s %(message)s')\n",
    "    hdlr.setFormatter(formatter)\n",
    "    logger.addHandler(hdlr)\n",
    "    logger.setLevel(logging.INFO)\n",
    "    FTPADDR = \"some ftp address\"\n",
    "    \n",
    "    \n",
    "    path='C:/Users/Felipe/Documents/GitHub/IntroDS-Projeto-Final/Data2/'\n",
    "   \n",
    "    ## Setting selenium to download pdfs\n",
    "    options_ = Options()\n",
    "    options_.set_preference(\"browser.download.folderList\",2)\n",
    "    options_.set_preference(\"browser.download.manager.showWhenStarting\", False)\n",
    "    options_.set_preference(\"browser.download.dir\",path)\n",
    "    options_.set_preference(\"browser.helperApps.neverAsk.saveToDisk\", \"application/pdf\")\n",
    "    options_.set_preference(\"pdfjs.disabled\", \"true\")\n",
    "    browser = webdriver.Firefox(options=options_)\n",
    "    ## End setting\n",
    "    \n",
    "    mes_dict={'janeiro':1,'fevereiro':2,'março':3,'abril':4,'maio':5,'junho':6,'julho':7,'agosto':8,'setembro':9,'outubro':10,'novembro':11,'dezembro':12}\n",
    "    with open('C:/Users/Felipe/Documents/GitHub/IntroDS-Projeto-Final/Data2/Dias_com_sessao_Falta_baixar.txt','rb') as file:\n",
    "        lista_das_sessoes=pickle.load(file)\n",
    "        \n",
    "    print(len(lista_das_sessoes))\n",
    "    \n",
    "    for _ in range(inicio,fim):\n",
    "        \n",
    "        dia,mes,ano=lista_das_sessoes[0]\n",
    "        dia=int(dia)\n",
    "        mes=mes_dict[mes]\n",
    "        ano=int(ano)\n",
    "        \n",
    "        lista_das_sessoes.pop(0)\n",
    "        \n",
    "        url1='https://www.camara.leg.br/internet/plenario/notas/notas.asp?dia={0}&mes={1}&ano={2}'.format(dia,mes,ano)\n",
    "        browser.get(url1)\n",
    "               \n",
    "        try:\n",
    "            h=True\n",
    "            t=1\n",
    "            \n",
    "            while h:        \n",
    "                try:\n",
    "                    pdf_get='/html/body/table/tbody/tr[2]/td/ul/strong/li[{0}]/a'.format(t)\n",
    "                    url_pdf=browser.find_element_by_xpath(pdf_get).get_attribute('href')\n",
    "                    pdf_name=browser.find_element_by_xpath(pdf_get).text\n",
    "                    pdf_name=pdf_name.replace(' ','_')\n",
    "                    pdf_name=pdf_name.replace(':','')\n",
    "                    pdf_name=pdf_name.replace('-','')\n",
    "                    arquivo=requests.get(url_pdf)\n",
    "                   \n",
    "                    \n",
    "                    file_name=str(ano)+'_'+str(mes)+'_'+str(dia)+'_'+pdf_name\n",
    "                    file_=os.path.join(path,file_name+'.pdf')\n",
    "                    \n",
    "                    with open(file_,'wb') as file:\n",
    "                        file.write(arquivo.content)\n",
    "                    \n",
    "                    t+=1\n",
    "                except Exception as e:\n",
    "                    \n",
    "                    logger.error('Failed to upload: '+str(e))\n",
    "                    h=False                   \n",
    "        except:\n",
    "            pass\n",
    "    \n",
    "    \n",
    "    print(len(lista_das_sessoes))\n",
    "    file_name='Dias_com_sessao_Falta_baixar'\n",
    "    file=os.path.join(path,file_name+'.txt')\n",
    "            \n",
    "    with open(file,'wb') as file:\n",
    "        pickle.dump(lista_das_sessoes,file)"
   ]
  },
  {
   "cell_type": "code",
   "execution_count": 4,
   "metadata": {},
   "outputs": [
    {
     "name": "stdout",
     "output_type": "stream",
     "text": [
      "1500\n",
      "0\n",
      "4083.7192845344543\n"
     ]
    }
   ],
   "source": [
    "start=time.time()\n",
    "scrape(0,1500)\n",
    "end=time.time()\n",
    "print(end-start)"
   ]
  },
  {
   "cell_type": "code",
   "execution_count": null,
   "metadata": {},
   "outputs": [],
   "source": []
  },
  {
   "cell_type": "code",
   "execution_count": null,
   "metadata": {},
   "outputs": [],
   "source": []
  },
  {
   "cell_type": "code",
   "execution_count": null,
   "metadata": {},
   "outputs": [],
   "source": []
  },
  {
   "cell_type": "code",
   "execution_count": null,
   "metadata": {},
   "outputs": [],
   "source": []
  },
  {
   "cell_type": "code",
   "execution_count": null,
   "metadata": {},
   "outputs": [],
   "source": []
  },
  {
   "cell_type": "code",
   "execution_count": 30,
   "metadata": {},
   "outputs": [],
   "source": [
    "\n"
   ]
  },
  {
   "cell_type": "code",
   "execution_count": null,
   "metadata": {},
   "outputs": [],
   "source": []
  },
  {
   "cell_type": "code",
   "execution_count": null,
   "metadata": {},
   "outputs": [],
   "source": []
  },
  {
   "cell_type": "code",
   "execution_count": null,
   "metadata": {},
   "outputs": [],
   "source": []
  },
  {
   "cell_type": "code",
   "execution_count": null,
   "metadata": {},
   "outputs": [],
   "source": []
  },
  {
   "cell_type": "code",
   "execution_count": null,
   "metadata": {},
   "outputs": [],
   "source": []
  },
  {
   "cell_type": "code",
   "execution_count": null,
   "metadata": {},
   "outputs": [],
   "source": []
  },
  {
   "cell_type": "code",
   "execution_count": null,
   "metadata": {},
   "outputs": [],
   "source": []
  },
  {
   "cell_type": "code",
   "execution_count": null,
   "metadata": {},
   "outputs": [],
   "source": []
  },
  {
   "cell_type": "code",
   "execution_count": null,
   "metadata": {},
   "outputs": [],
   "source": []
  },
  {
   "cell_type": "code",
   "execution_count": null,
   "metadata": {},
   "outputs": [],
   "source": []
  }
 ],
 "metadata": {
  "kernelspec": {
   "display_name": "Python 3",
   "language": "python",
   "name": "python3"
  },
  "language_info": {
   "codemirror_mode": {
    "name": "ipython",
    "version": 3
   },
   "file_extension": ".py",
   "mimetype": "text/x-python",
   "name": "python",
   "nbconvert_exporter": "python",
   "pygments_lexer": "ipython3",
   "version": "3.7.3"
  }
 },
 "nbformat": 4,
 "nbformat_minor": 2
}
