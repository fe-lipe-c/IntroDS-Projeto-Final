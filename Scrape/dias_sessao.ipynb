{
 "cells": [
  {
   "cell_type": "code",
   "execution_count": 1,
   "metadata": {},
   "outputs": [],
   "source": [
    "import time\n",
    "from selenium import webdriver\n",
    "import logging\n",
    "import requests\n",
    "import json\n",
    "import os.path\n",
    "import pickle"
   ]
  },
  {
   "cell_type": "code",
   "execution_count": 17,
   "metadata": {},
   "outputs": [],
   "source": [
    "def dias_sessao(meses):\n",
    "    \n",
    "    logger = logging.getLogger('ftpuploader')\n",
    "    hdlr = logging.FileHandler('ftplog_dias_sessao.log')\n",
    "    formatter = logging.Formatter('%(asctime)s %(levelname)s %(message)s')\n",
    "    hdlr.setFormatter(formatter)\n",
    "    logger.addHandler(hdlr)\n",
    "    logger.setLevel(logging.INFO)\n",
    "    FTPADDR = \"some ftp address\"\n",
    "    \n",
    "    url1='https://www2.camara.leg.br/atividade-legislativa/plenario/discursos/notas.html'\n",
    "    browser=webdriver.Firefox()\n",
    "    browser.get(url1)\n",
    "    iframe=browser.find_element_by_xpath('//*[@id=\"ifr\"]')\n",
    "    browser.switch_to.frame(iframe)\n",
    "    Sessoes=[]\n",
    "    \n",
    "    path='C:/Users/Felipe/Documents/GitHub/IntroDS-Projeto-Final/Data2/'\n",
    "    \n",
    "    for pag in range(0,meses):\n",
    "        \n",
    "        for i in range(1,6):\n",
    "            for j in range(1,8):\n",
    "                try:      \n",
    "                    temp=[]\n",
    "                    caminho='/html/body/div/table/tbody/tr/td/div/div/div/table/tbody/tr[{0}]/td[{1}]/strong/a'.format(i,j)\n",
    "                    dia=browser.find_element_by_xpath(caminho).text\n",
    "                    temp.append(dia)\n",
    "                    caminho2='/html/body/div/table/tbody/tr/td/div/div/div/table/thead/tr[1]/th'\n",
    "                    mes_ano=browser.find_element_by_xpath(caminho2).text\n",
    "                    mes_ano=mes_ano.split('/')\n",
    "                    temp.extend(mes_ano)\n",
    "                    Sessoes.append(temp)\n",
    "                    \n",
    "                    \n",
    "               \n",
    "                \n",
    "                except Exception as e:\n",
    "                    \n",
    "                    logger.error('Failed to upload: '+str(e))\n",
    "                    h=False                   \n",
    "        \n",
    "        anterior='/html/body/div/table/tbody/tr/td/div/table[1]/tbody/tr/td[1]/form/div/input'\n",
    "        btn_ant=browser.find_element_by_xpath(anterior)\n",
    "        btn_ant.click()\n",
    "        \n",
    "    file_name='Dias_com_sessao'\n",
    "    file=os.path.join(path,file_name+'.txt')\n",
    "            \n",
    "    with open(file,'wb') as file:\n",
    "        pickle.dump(Sessoes,file)\n",
    "    \n",
    "    return"
   ]
  },
  {
   "cell_type": "code",
   "execution_count": 18,
   "metadata": {},
   "outputs": [
    {
     "name": "stdout",
     "output_type": "stream",
     "text": [
      "323.5147957801819\n"
     ]
    }
   ],
   "source": [
    "start=time.time()\n",
    "dias_sessao(240)\n",
    "end=time.time()\n",
    "print(end-start)"
   ]
  },
  {
   "cell_type": "code",
   "execution_count": 45,
   "metadata": {},
   "outputs": [],
   "source": [
    "with open('C:/Users/Felipe/Documents/GitHub/IntroDS-Projeto-Final/Data2/Dias_com_sessao.txt','rb') as file:\n",
    "    teste=pickle.load(file)"
   ]
  },
  {
   "cell_type": "code",
   "execution_count": null,
   "metadata": {},
   "outputs": [],
   "source": []
  },
  {
   "cell_type": "code",
   "execution_count": 40,
   "metadata": {},
   "outputs": [],
   "source": []
  },
  {
   "cell_type": "code",
   "execution_count": null,
   "metadata": {},
   "outputs": [],
   "source": []
  },
  {
   "cell_type": "code",
   "execution_count": 42,
   "metadata": {},
   "outputs": [],
   "source": [
    "path='C:/Users/Felipe/Documents/GitHub/IntroDS-Projeto-Final/Data2/'\n",
    "file_name='Dias_com_sessao_Falta_baixar'\n",
    "file=os.path.join(path,file_name+'.txt')\n",
    "            \n",
    "with open(file,'wb') as file:\n",
    "    pickle.dump(teste,file)"
   ]
  },
  {
   "cell_type": "code",
   "execution_count": 47,
   "metadata": {},
   "outputs": [],
   "source": [
    "with open('C:/Users/Felipe/Documents/GitHub/IntroDS-Projeto-Final/Data2/Dias_com_sessao_Falta_baixar.txt','rb') as file:\n",
    "    teste3=pickle.load(file)\n"
   ]
  },
  {
   "cell_type": "code",
   "execution_count": null,
   "metadata": {},
   "outputs": [],
   "source": []
  },
  {
   "cell_type": "code",
   "execution_count": null,
   "metadata": {},
   "outputs": [],
   "source": []
  },
  {
   "cell_type": "code",
   "execution_count": null,
   "metadata": {},
   "outputs": [],
   "source": []
  },
  {
   "cell_type": "code",
   "execution_count": null,
   "metadata": {},
   "outputs": [],
   "source": []
  },
  {
   "cell_type": "code",
   "execution_count": null,
   "metadata": {},
   "outputs": [],
   "source": []
  },
  {
   "cell_type": "code",
   "execution_count": null,
   "metadata": {},
   "outputs": [],
   "source": []
  },
  {
   "cell_type": "code",
   "execution_count": null,
   "metadata": {},
   "outputs": [],
   "source": []
  },
  {
   "cell_type": "code",
   "execution_count": null,
   "metadata": {},
   "outputs": [],
   "source": []
  },
  {
   "cell_type": "code",
   "execution_count": null,
   "metadata": {},
   "outputs": [],
   "source": []
  },
  {
   "cell_type": "code",
   "execution_count": null,
   "metadata": {},
   "outputs": [],
   "source": []
  }
 ],
 "metadata": {
  "kernelspec": {
   "display_name": "Python 3",
   "language": "python",
   "name": "python3"
  },
  "language_info": {
   "codemirror_mode": {
    "name": "ipython",
    "version": 3
   },
   "file_extension": ".py",
   "mimetype": "text/x-python",
   "name": "python",
   "nbconvert_exporter": "python",
   "pygments_lexer": "ipython3",
   "version": "3.7.3"
  }
 },
 "nbformat": 4,
 "nbformat_minor": 2
}
