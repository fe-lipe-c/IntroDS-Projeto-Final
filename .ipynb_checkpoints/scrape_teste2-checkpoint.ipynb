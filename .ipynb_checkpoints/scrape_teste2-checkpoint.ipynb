{
 "cells": [
  {
   "cell_type": "code",
   "execution_count": 4,
   "metadata": {},
   "outputs": [],
   "source": [
    "import time\n",
    "from selenium import webdriver"
   ]
  },
  {
   "cell_type": "code",
   "execution_count": 136,
   "metadata": {},
   "outputs": [],
   "source": [
    "def scrape(inicio=56591):\n",
    "    \n",
    "    browser=webdriver.Firefox()\n",
    "    url1='https://www.camara.leg.br/internet/escriba/escriba.asp?codSileg={0}'.format(inicio)\n",
    "    browser.get(url1)\n",
    "    iframe=browser.find_element_by_xpath('//*[@id=\"ifrmEscriba\"]')\n",
    "    browser.switch_to.frame(iframe)\n",
    "    Sessoes=[]\n",
    "    Verificar=[]\n",
    "    \n",
    "    for i in range(56591,56561,-1):\n",
    "        try:\n",
    "            temp={}\n",
    "            url='https://www.camara.leg.br/internet/escriba/escriba.asp?codSileg={0}'.format(i)\n",
    "            browser.get(url)\n",
    "            iframe=browser.find_element_by_xpath('//*[@id=\"ifrmEscriba\"]')\n",
    "            browser.switch_to.frame(iframe)\n",
    "            \n",
    "            sessao=browser.find_element_by_xpath('/html/body/div/div[1]/div/strong[3]').text\n",
    "            data=browser.find_element_by_xpath('/html/body/div/div[1]/div/span[1]/span').text\n",
    "            tipo=browser.find_element_by_xpath('/html/body/div/div[1]/div/strong[4]').text\n",
    "            \n",
    "            tudo='//*[@id=\"contentEncontro\"]'\n",
    "            temp['Sessao']=sessao\n",
    "            temp['Data']=data\n",
    "            temp['Tipo']=tipo\n",
    "            temp['Pagina']=i\n",
    "            \n",
    "            temp['Conteudo']=browser.find_element_by_xpath(tudo).text\n",
    "            \n",
    "            Sessoes.append(temp)\n",
    "            \n",
    "        except:\n",
    "            \n",
    "            try:\n",
    "                browser.find_element_by_xpath('/html/body/div/h1').text\n",
    "            except:\n",
    "                Verificar.append(i)\n",
    "        \n",
    "    \n",
    "    return Sessoes,Verificar"
   ]
  },
  {
   "cell_type": "code",
   "execution_count": null,
   "metadata": {},
   "outputs": [],
   "source": [
    "if __name__=='__main__':\n",
    "    import sys\n",
    "    scrape(str(sys.argv[1]))"
   ]
  },
  {
   "cell_type": "code",
   "execution_count": null,
   "metadata": {},
   "outputs": [],
   "source": []
  },
  {
   "cell_type": "code",
   "execution_count": null,
   "metadata": {},
   "outputs": [],
   "source": []
  },
  {
   "cell_type": "code",
   "execution_count": null,
   "metadata": {},
   "outputs": [],
   "source": []
  },
  {
   "cell_type": "code",
   "execution_count": null,
   "metadata": {},
   "outputs": [],
   "source": []
  },
  {
   "cell_type": "code",
   "execution_count": null,
   "metadata": {},
   "outputs": [],
   "source": []
  },
  {
   "cell_type": "code",
   "execution_count": null,
   "metadata": {},
   "outputs": [],
   "source": []
  },
  {
   "cell_type": "code",
   "execution_count": null,
   "metadata": {},
   "outputs": [],
   "source": []
  },
  {
   "cell_type": "code",
   "execution_count": null,
   "metadata": {},
   "outputs": [],
   "source": []
  },
  {
   "cell_type": "code",
   "execution_count": null,
   "metadata": {},
   "outputs": [],
   "source": []
  },
  {
   "cell_type": "code",
   "execution_count": null,
   "metadata": {},
   "outputs": [],
   "source": []
  },
  {
   "cell_type": "code",
   "execution_count": null,
   "metadata": {},
   "outputs": [],
   "source": []
  },
  {
   "cell_type": "code",
   "execution_count": null,
   "metadata": {},
   "outputs": [],
   "source": []
  },
  {
   "cell_type": "code",
   "execution_count": null,
   "metadata": {},
   "outputs": [],
   "source": []
  },
  {
   "cell_type": "code",
   "execution_count": null,
   "metadata": {},
   "outputs": [],
   "source": []
  },
  {
   "cell_type": "code",
   "execution_count": null,
   "metadata": {},
   "outputs": [],
   "source": []
  },
  {
   "cell_type": "code",
   "execution_count": null,
   "metadata": {},
   "outputs": [],
   "source": []
  }
 ],
 "metadata": {
  "kernelspec": {
   "display_name": "Python 3",
   "language": "python",
   "name": "python3"
  },
  "language_info": {
   "codemirror_mode": {
    "name": "ipython",
    "version": 3
   },
   "file_extension": ".py",
   "mimetype": "text/x-python",
   "name": "python",
   "nbconvert_exporter": "python",
   "pygments_lexer": "ipython3",
   "version": "3.7.3"
  }
 },
 "nbformat": 4,
 "nbformat_minor": 2
}
