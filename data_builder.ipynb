{
 "cells": [
  {
   "cell_type": "code",
   "execution_count": 2,
   "metadata": {},
   "outputs": [],
   "source": [
    "import cam_scrape\n",
    "import sqlite3"
   ]
  },
  {
   "cell_type": "code",
   "execution_count": 3,
   "metadata": {},
   "outputs": [],
   "source": [
    "# Criar as tabelas\n",
    "\n",
    "def init_db2(dbfile):\n",
    "    \"\"\"Creates the database tables.\"\"\"\n",
    "    \n",
    "    gs=sqlite3.connect(dbfile)\n",
    "    google_s=gs.cursor()\n",
    "\n",
    "    google_s.execute(\"\"\"\n",
    "    CREATE TABLE Plenario (\n",
    "    sessao_id INTEGER NOT NULL PRIMARY KEY AUTOINCREMENT,\n",
    "    sessao TEXT,\n",
    "    data TEXT,\n",
    "    tipo TEXT,\n",
    "    pagina int,\n",
    "    conteudo TEXT\n",
    "    );\n",
    "    \"\"\")\n",
    "    \n",
    "    gs.commit()\n",
    "    gs.close()\n"
   ]
  },
  {
   "cell_type": "code",
   "execution_count": null,
   "metadata": {},
   "outputs": [],
   "source": [
    "def inserir_plenario(inicio=56591):\n",
    "    \n",
    "    try:\n",
    "        init_db2('prenario_2019')\n",
    "    except:\n",
    "        pass\n",
    "    \n",
    "    try:\n",
    "        "
   ]
  }
 ],
 "metadata": {
  "kernelspec": {
   "display_name": "Python 3",
   "language": "python",
   "name": "python3"
  },
  "language_info": {
   "codemirror_mode": {
    "name": "ipython",
    "version": 3
   },
   "file_extension": ".py",
   "mimetype": "text/x-python",
   "name": "python",
   "nbconvert_exporter": "python",
   "pygments_lexer": "ipython3",
   "version": "3.7.3"
  }
 },
 "nbformat": 4,
 "nbformat_minor": 2
}
