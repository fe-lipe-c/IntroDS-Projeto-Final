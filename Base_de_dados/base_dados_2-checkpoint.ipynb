{
 "cells": [
  {
   "cell_type": "code",
   "execution_count": 1,
   "metadata": {},
   "outputs": [],
   "source": [
    "import numpy as np\n",
    "import pandas as pd\n",
    "\n",
    "import getpdf_2\n",
    "import get_votos\n",
    "\n",
    "import os"
   ]
  },
  {
   "cell_type": "code",
   "execution_count": 3,
   "metadata": {},
   "outputs": [],
   "source": [
    "def base_sessoes():\n",
    "    \n",
    "    sessoes=getpdf_2.agregar_dict('2019')\n",
    "    \n",
    "    df=pd.DataFrame()\n",
    "    FASE=['ABERTURA DA SESSÃO','LEITURA DA ATA','EXPEDIENTE','PEQUENO EXPEDIENTE','GRANDE EXPEDIENTE','ENCERRAMENTO',\\\n",
    "          'ORDEM DO DIA']\n",
    "    \n",
    "    for p in range(len(sessoes)):\n",
    "        \n",
    "        sessao=sessoes[p]\n",
    "\n",
    "        FASE_dict={}\n",
    "        \n",
    "        for i in sessao.keys():\n",
    "    \n",
    "            if str(sessao[i]).isnumeric():\n",
    "                FASE_dict[i]=sessao[i]\n",
    "                continue\n",
    "        \n",
    "            else:\n",
    "                if len(sessao[i])==0:\n",
    "                    continue\n",
    "                if i=='Data':\n",
    "                    continue\n",
    "                if i =='Tipo':\n",
    "                    continue\n",
    "        \n",
    "                if i[:6]=='Sessão':\n",
    "                    continue\n",
    "                \n",
    "                for k in sessao[i][2:]:\n",
    "                    \n",
    "                    if len(k)<3:\n",
    "                        print('Sessao: ',p)\n",
    "                        print('Key: ', i)\n",
    "                        continue\n",
    "     \n",
    "                    df=df.append({'Nome':i,'Data':sessao['Data'],'Sessão Legislativa':sessao['Sessão Legislativa'],\\\n",
    "                                 'Legislatura':sessao['Legislatura'],'Sessão':sessao['Sessão'],'Hora':sessao['Hora'],\\\n",
    "                                 'Tipo':sessao['Tipo'],'Partido':sessao[i][0],'Estado':sessao[i][1],'Ordem':int(k[0]),\\\n",
    "                                  'Presidente':k[1],'Discurso':k[2]},ignore_index=True)\n",
    "        \n",
    "    return df"
   ]
  },
  {
   "cell_type": "code",
   "execution_count": 30,
   "metadata": {},
   "outputs": [],
   "source": [
    "def save_discursos(rootPath,arquivo,df_discursos):\n",
    "    newfile=os.path.join(rootPath,arquivo)\n",
    "    df_discursos.to_csv(newfile,encoding='utf-8')"
   ]
  },
  {
   "cell_type": "code",
   "execution_count": 31,
   "metadata": {},
   "outputs": [],
   "source": []
  }
 ],
 "metadata": {
  "kernelspec": {
   "display_name": "Python 3",
   "language": "python",
   "name": "python3"
  },
  "language_info": {
   "codemirror_mode": {
    "name": "ipython",
    "version": 3
   },
   "file_extension": ".py",
   "mimetype": "text/x-python",
   "name": "python",
   "nbconvert_exporter": "python",
   "pygments_lexer": "ipython3",
   "version": "3.7.3"
  }
 },
 "nbformat": 4,
 "nbformat_minor": 2
}
