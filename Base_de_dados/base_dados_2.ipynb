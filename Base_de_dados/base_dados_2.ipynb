{
 "cells": [
  {
   "cell_type": "code",
   "execution_count": 1,
   "metadata": {},
   "outputs": [],
   "source": [
    "import numpy as np\n",
    "import pandas as pd\n",
    "\n",
    "import getpdf_2\n",
    "import get_votos\n",
    "\n",
    "import os"
   ]
  },
  {
   "cell_type": "code",
   "execution_count": 2,
   "metadata": {},
   "outputs": [],
   "source": [
    "def base_sessoes(ano):\n",
    "    \n",
    "    sessoes=getpdf_2.agregar_dict(ano)\n",
    "    \n",
    "    df=pd.DataFrame()\n",
    "    momentos_da_sessao=['ABERTURA DA SESSÃO','LEITURA DA ATA','EXPEDIENTE','PEQUENO EXPEDIENTE','GRANDE EXPEDIENTE',\\\n",
    "                       'COMUNICAÇÕES PARLAMENTARES','ENCERRAMENTO','BREVES COMUNICAÇÕES','ORDEM DO DIA']\n",
    "    \n",
    "    \n",
    "    for p in range(len(sessoes)):\n",
    "        \n",
    "        sessao=sessoes[p]\n",
    "\n",
    "        fases=[(0,'')]\n",
    "        \n",
    "        for j in sessao.keys():\n",
    "            \n",
    "            if str(sessao[j]).isnumeric():\n",
    "                if j.isupper():\n",
    "                    fases.append((sessao[j],j))\n",
    "        \n",
    "        fases=sorted(fases)\n",
    "        \n",
    "        fases2=fases.copy()\n",
    "        fases=[]\n",
    "        for f in range(1,len(fases2)):\n",
    "            if (fases2[f][0]-fases2[f-1][0])==0:\n",
    "                fases2[f-1]=(-1,fases2[f-1][1])\n",
    "        \n",
    "        fases2=sorted(fases2)        \n",
    "        for f in fases2:\n",
    "            if f[0]>-1:\n",
    "                fases.append(f)\n",
    "        \n",
    "        for i in sessao.keys():\n",
    "            if sessao[i] is None:\n",
    "                continue\n",
    "    \n",
    "            if str(sessao[i]).isnumeric():\n",
    "                continue\n",
    "        \n",
    "            else:\n",
    "                if len(sessao[i])==0:\n",
    "                    continue\n",
    "                if i=='Data':\n",
    "                    continue\n",
    "                if i =='Tipo':\n",
    "                    continue\n",
    "        \n",
    "                if i[:6]=='Sessão':\n",
    "                    continue\n",
    "                \n",
    "                for k in sessao[i][2:]:\n",
    "                    \n",
    "                    if len(k)<3:\n",
    "                        print('Sessao: ',p)\n",
    "                        print('Key: ', i)\n",
    "                        continue\n",
    "                        \n",
    "                    t=0\n",
    "                    h=1\n",
    "                    f_k=''\n",
    "                    try:\n",
    "                        \n",
    "                        while t==0:\n",
    "                        \n",
    "                            if h==len(fases):\n",
    "                            \n",
    "                                t+=1\n",
    "                           \n",
    "                                f_k=fases[h-1][1]\n",
    "                        \n",
    "                            elif int(k[0])>=int(fases[h-1][0]) and int(k[0])<=int(fases[h][0]):\n",
    "                                t+=1\n",
    "                            \n",
    "                                f_k=fases[h-1][1]\n",
    "                            \n",
    "                            h+=1\n",
    "                    except:\n",
    "                        print(k,p)\n",
    "                        \n",
    "                    df=df.append({'Nome':i,'Data':sessao['Data'],'Sessão Legislativa':sessao['Sessão Legislativa'],\\\n",
    "                                 'Legislatura':sessao['Legislatura'],'Sessão':sessao['Sessão'],'Hora':sessao['Hora'],\\\n",
    "                                 'Tipo':sessao['Tipo'],'Partido':sessao[i][0],'Estado':sessao[i][1],'Ordem':str(k[0]),\\\n",
    "                                  'Presidente':k[1],'Discurso':k[2],'Fase':f_k},ignore_index=True)\n",
    "        \n",
    "    return df"
   ]
  },
  {
   "cell_type": "code",
   "execution_count": 9,
   "metadata": {},
   "outputs": [],
   "source": [
    "def save_discursos(rootPath,arquivo,df_discursos):\n",
    "    newfile=os.path.join(rootPath,arquivo)\n",
    "    df_discursos.to_csv(newfile,encoding='utf-8')"
   ]
  },
  {
   "cell_type": "code",
   "execution_count": null,
   "metadata": {},
   "outputs": [],
   "source": []
  },
  {
   "cell_type": "code",
   "execution_count": null,
   "metadata": {},
   "outputs": [],
   "source": []
  },
  {
   "cell_type": "code",
   "execution_count": null,
   "metadata": {},
   "outputs": [],
   "source": []
  },
  {
   "cell_type": "code",
   "execution_count": null,
   "metadata": {},
   "outputs": [],
   "source": []
  },
  {
   "cell_type": "code",
   "execution_count": null,
   "metadata": {},
   "outputs": [],
   "source": []
  },
  {
   "cell_type": "code",
   "execution_count": null,
   "metadata": {},
   "outputs": [],
   "source": []
  },
  {
   "cell_type": "code",
   "execution_count": null,
   "metadata": {},
   "outputs": [],
   "source": []
  },
  {
   "cell_type": "code",
   "execution_count": null,
   "metadata": {},
   "outputs": [],
   "source": []
  },
  {
   "cell_type": "code",
   "execution_count": null,
   "metadata": {},
   "outputs": [],
   "source": []
  },
  {
   "cell_type": "code",
   "execution_count": null,
   "metadata": {},
   "outputs": [],
   "source": []
  },
  {
   "cell_type": "code",
   "execution_count": null,
   "metadata": {},
   "outputs": [],
   "source": []
  },
  {
   "cell_type": "code",
   "execution_count": null,
   "metadata": {},
   "outputs": [],
   "source": []
  },
  {
   "cell_type": "code",
   "execution_count": null,
   "metadata": {},
   "outputs": [],
   "source": []
  }
 ],
 "metadata": {
  "kernelspec": {
   "display_name": "Python 3",
   "language": "python",
   "name": "python3"
  },
  "language_info": {
   "codemirror_mode": {
    "name": "ipython",
    "version": 3
   },
   "file_extension": ".py",
   "mimetype": "text/x-python",
   "name": "python",
   "nbconvert_exporter": "python",
   "pygments_lexer": "ipython3",
   "version": "3.7.3"
  }
 },
 "nbformat": 4,
 "nbformat_minor": 2
}
