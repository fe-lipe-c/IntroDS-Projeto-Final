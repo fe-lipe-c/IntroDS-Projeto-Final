{
 "cells": [
  {
   "cell_type": "code",
   "execution_count": 318,
   "metadata": {},
   "outputs": [],
   "source": [
    "import numpy as np\n",
    "import pandas as pd\n",
    "\n",
    "import os,os.path,sys\n",
    "\n",
    "from tika import parser\n",
    "\n",
    "import re\n",
    "\n",
    "import matplotlib.pyplot as plt\n",
    "%matplotlib inline  \n",
    "import seaborn as sns\n",
    "sns.set(color_codes=True)"
   ]
  },
  {
   "cell_type": "code",
   "execution_count": 40,
   "metadata": {},
   "outputs": [],
   "source": [
    "def extractPDF(path):\n",
    "    \n",
    "    file_data=parser.from_file(path)\n",
    "    text=file_data['content']\n",
    "    data_hora=(text.split('[')[1].split(']')[0]).split()\n",
    "    hora=data_hora[1]\n",
    "    data=data_hora[0].split('-')\n",
    "    \n",
    "    ret=text.split('Sessão de:')[1].split('DOS DEPUTADOS')[0]\n",
    "    retirar='Sessão de:'+ret+'DOS DEPUTADOS'\n",
    "    text=text.replace(retirar,'')\n",
    "    \n",
    "    dados=[]\n",
    "    dados.append(data)\n",
    "    dados.append(hora)\n",
    "    dados.append(text)\n",
    "    \n",
    "    return dados"
   ]
  },
  {
   "cell_type": "code",
   "execution_count": 2,
   "metadata": {},
   "outputs": [],
   "source": [
    "path=r'C:\\Users\\Felipe\\Documents\\GitHub\\IntroDS-Projeto-Final\\Data2'\n",
    "file='2019_7_12_Sessão_Extraordinária__0931.pdf'\n",
    "filename=os.path.join(path,file)\n"
   ]
  },
  {
   "cell_type": "code",
   "execution_count": 41,
   "metadata": {},
   "outputs": [],
   "source": [
    "texto_1=extractPDF(filename)"
   ]
  },
  {
   "cell_type": "code",
   "execution_count": 230,
   "metadata": {},
   "outputs": [],
   "source": [
    "def sessao_dict(texto_lista):\n",
    "    data=texto_lista[0]\n",
    "    hora=texto_lista[1]\n",
    "    \n",
    "    deputados={}\n",
    "    erro=[]\n",
    "    temp=texto_lista[2].split('SR.')\n",
    "    \n",
    "    for i in range(0,len(temp)):\n",
    "        \n",
    "        nome_dep=teste[i].split('(')[0].replace('.','').strip()\n",
    "        \n",
    "        try:\n",
    "            deputados[nome_dep].append([teste[i].split(') ')[1],i])\n",
    "        \n",
    "        except:\n",
    "            try:\n",
    "                deputados[nome_dep]=list([[teste[i].split(') ')[1],i]])\n",
    "            except:\n",
    "                erro.append(i)\n",
    "    \n",
    "    return deputados,erro\n",
    "    \n",
    "    \n",
    "    "
   ]
  },
  {
   "cell_type": "code",
   "execution_count": 231,
   "metadata": {},
   "outputs": [],
   "source": [
    "dep,e=sessao_dict(texto_1)"
   ]
  },
  {
   "cell_type": "code",
   "execution_count": 289,
   "metadata": {},
   "outputs": [
    {
     "data": {
      "text/plain": [
       "132"
      ]
     },
     "execution_count": 289,
     "metadata": {},
     "output_type": "execute_result"
    }
   ],
   "source": [
    "len(dep)"
   ]
  },
  {
   "cell_type": "code",
   "execution_count": 264,
   "metadata": {},
   "outputs": [],
   "source": [
    "g=dep.get('A PROFESSORA DORINHA SEABRA REZENDE')"
   ]
  },
  {
   "cell_type": "code",
   "execution_count": 432,
   "metadata": {},
   "outputs": [],
   "source": [
    "def hist_dis(dicionario,*lista_congressistas):\n",
    "    \n",
    "    try:\n",
    "        \n",
    "        Deputados=lista_congressistas\n",
    "    \n",
    "        Contagem=[]\n",
    "        for nome in Deputados:\n",
    "            \n",
    "            parlamentar=dicionario.get(nome)\n",
    "            temp={}\n",
    "            for i in parlamentar:\n",
    "                \n",
    "                tamanho=len(i[0])\n",
    "                Contagem.append([tamanho,i[1],nome])\n",
    "                \n",
    "                \n",
    "        max_t=0\n",
    "        for i in dicionario:\n",
    "            dis=dicionario.get(i)\n",
    "            max_i=0\n",
    "            for j in range(len(dis)):\n",
    "                temp=dis[j][1]\n",
    "                if temp>max_i:\n",
    "                    max_i=temp\n",
    "            if max_i>max_t:\n",
    "                max_t=max_i\n",
    "        \n",
    "        print(max_t)\n",
    "        x=np.zeros(max_t)\n",
    "        labels=list(np.zeros(max_t))\n",
    "       \n",
    "        for k in Contagem:\n",
    "            x[k[1]]=k[0]\n",
    "            labels[k[1]]=k[2]\n",
    "            \n",
    "        plt.figure(figsize=(24,16))\n",
    "        sns.distplot(list(dict.keys()),hist_kws={'weights':list(dict.values())},bins=bins2-0.5,kde=False,hist=True)\n",
    "        \n",
    "    except:\n",
    "        \n",
    "        Contagem=[]\n",
    "        for nome in dicionario.keys():\n",
    "        \n",
    "            parlamentar=dicionario.get(nome)\n",
    "            for i in parlamentar:\n",
    "                tamanho=len(i[0])\n",
    "                Contagem.append([tamanho,i[1],nome])\n",
    "                \n",
    "        max_t=0\n",
    "        for i in dicionario:\n",
    "            dis=dicionario.get(i)\n",
    "            max_i=0\n",
    "            for j in range(len(dis)):\n",
    "                temp=dis[j][1]\n",
    "                if temp>max_i:\n",
    "                    max_i=temp\n",
    "            if max_i>max_t:\n",
    "                max_t=max_i\n",
    "        \n",
    "        x=np.zeros(max_t)\n",
    "        \n",
    "        print('Erro')\n",
    "        #for k in Contagem:\n",
    "        #    x[k[1]]=k[0]\n",
    "        #xd=pd.DataFrame(x)\n",
    "        #sns.distplot(xd,kde=False)\n",
    "        \n",
    "    return Contagem,labels"
   ]
  },
  {
   "cell_type": "code",
   "execution_count": 572,
   "metadata": {},
   "outputs": [],
   "source": [
    "def hist_dis2(dicionario,*lista_congressistas):\n",
    "    \n",
    "    plt.figure(figsize=(12,8))\n",
    "    try:\n",
    "        \n",
    "        Deputados=lista_congressistas\n",
    "    \n",
    "        for nome in Deputados:\n",
    "            \n",
    "            parlamentar=dicionario.get(nome)\n",
    "            temp={}\n",
    "            for i in parlamentar:\n",
    "                \n",
    "                temp[i[1]]=len(i[0])\n",
    "          \n",
    "            #bins2=np.arange(min(temp.keys())-1,max(temp.keys())+2)\n",
    "            \n",
    "            #sns.distplot(list(temp.keys()),hist_kws={'weights':list(temp.values())},bins=bins2-0.5,kde=False,hist=True,label=nome)\n",
    "            sns.distplot(list(temp.keys()),hist_kws={'weights':list(temp.values())},kde=False,hist=True,label=nome)\n",
    "                  \n",
    "        plt.legend()\n",
    "        plt.show\n",
    "               \n",
    "    except:\n",
    "        \n",
    "        \n",
    "        Deputados=dicionario.keys()\n",
    "    \n",
    "        for nome in Deputados:\n",
    "            \n",
    "            parlamentar=dicionario.get(nome)\n",
    "            temp={}\n",
    "            for i in parlamentar:\n",
    "                \n",
    "                temp[i[1]]=len(i[0])\n",
    "          \n",
    "            #bins2=np.arange(min(temp.keys())-1,max(temp.keys())+2)\n",
    "            \n",
    "            sns.distplot(list(temp.keys()),hist_kws={'weights':list(temp.values())},kde=False,hist=True)\n",
    "               \n",
    "        #plt.legend()\n",
    "        plt.show\n",
    "        \n",
    "        print('Erro')\n",
    "        "
   ]
  },
  {
   "cell_type": "code",
   "execution_count": null,
   "metadata": {},
   "outputs": [],
   "source": [
    "de"
   ]
  },
  {
   "cell_type": "code",
   "execution_count": 573,
   "metadata": {},
   "outputs": [
    {
     "name": "stdout",
     "output_type": "stream",
     "text": [
      "Erro\n"
     ]
    },
    {
     "data": {
      "image/png": "[encoded data removed]",
      "text/plain": [
       "<Figure size 864x576 with 1 Axes>"
      ]
     },
     "metadata": {},
     "output_type": "display_data"
    }
   ],
   "source": [
    "hist_dis2(dep,lista)"
   ]
  },
  {
   "cell_type": "code",
   "execution_count": 569,
   "metadata": {},
   "outputs": [],
   "source": [
    "lista=dep.keys()"
   ]
  },
  {
   "cell_type": "code",
   "execution_count": 562,
   "metadata": {},
   "outputs": [],
   "source": [
    "lista=['A PRESIDENTE', 'PRESIDENTE', 'RICARDO BARROS', 'AFONSO MOTTA', 'ALEXANDRE FROTA', 'DARCI DE MATOS', 'FÁBIO TRAD', 'JOSÉ NELTO', 'CLAUDIO CAJADO', 'SANTINI', 'BOSCO COSTA', 'FREI ANASTACIO RIBEIRO', 'MARCON', 'A ALICE PORTUGAL', 'ARNALDO JARDIM', 'ALEXANDRE PADILHA', 'VALMIR ASSUNÇÃO', 'A BENEDITA DA SILVA', 'NEWTON CARDOSO JR', 'CORONEL CHRISÓSTOMO', 'VICENTINHO JÚNIOR', 'EDMILSON RODRIGUES', 'NILTO TATTO', 'ODAIR CUNHA', 'A MARGARIDA SALOMÃO', 'OTONI DE PAULA', 'BALEIA ROSSI', 'HÉLIO COSTA', 'GIOVANI CHERINI', 'VANDERLEI MACRIS', 'DANIEL ALMEIDA', 'MARCELO FREIXO', 'ENRICO MISASI', 'ALIEL MACHADO', 'A JANDIRA FEGHALI', 'MAJOR VITOR HUGO', 'GERVÁSIO MAIA', 'PAULO RAMOS', 'MARCEL VAN HATTEM', 'SUBTENENTE GONZAGA', 'CAPITÃO WAGNER', 'CORONEL TADEU', 'REGINALDO LOPES', 'DOMINGOS SÁVIO', 'FILIPE BARROS', 'CAPITÃO AUGUSTO', 'BOHN GASS', 'OLIVAL MARQUES', 'CARLOS JORDY', 'A PERPÉTUA ALMEIDA', 'PEDRO AUGUSTO BEZERRA', 'FELÍCIO LATERÇA', 'BIRA DO PINDARÉ']"
   ]
  },
  {
   "cell_type": "code",
   "execution_count": 520,
   "metadata": {},
   "outputs": [
    {
     "data": {
      "text/plain": [
       "<function matplotlib.pyplot.show(*args, **kw)>"
      ]
     },
     "execution_count": 520,
     "metadata": {},
     "output_type": "execute_result"
    },
    {
     "data": {
      "image/png": "[encoded data removed]",
      "text/plain": [
       "<Figure size 864x576 with 1 Axes>"
      ]
     },
     "metadata": {},
     "output_type": "display_data"
    }
   ],
   "source": [
    "plt.figure(figsize=(12,8))\n",
    "sns.distplot(list(dict.keys()),hist_kws={'weights':list(dict.values())},bins=bins2-0.5,kde=False,hist=True,label='Nome')\n",
    "\n",
    "plt.legend()\n",
    "plt.show"
   ]
  },
  {
   "cell_type": "code",
   "execution_count": 506,
   "metadata": {},
   "outputs": [],
   "source": [
    "bins2=np.arange(min(dict.keys())-1,max(dict.keys())+2)"
   ]
  },
  {
   "cell_type": "code",
   "execution_count": 500,
   "metadata": {},
   "outputs": [
    {
     "data": {
      "text/plain": [
       "{23: 200, 50: 45}"
      ]
     },
     "execution_count": 500,
     "metadata": {},
     "output_type": "execute_result"
    }
   ],
   "source": [
    "dict"
   ]
  },
  {
   "cell_type": "code",
   "execution_count": 507,
   "metadata": {},
   "outputs": [
    {
     "data": {
      "text/plain": [
       "array([22, 23, 24, 25, 26, 27, 28, 29, 30, 31, 32, 33, 34, 35, 36, 37, 38,\n",
       "       39, 40, 41, 42, 43, 44, 45, 46, 47, 48, 49, 50, 51])"
      ]
     },
     "execution_count": 507,
     "metadata": {},
     "output_type": "execute_result"
    }
   ],
   "source": [
    "bins2"
   ]
  },
  {
   "cell_type": "code",
   "execution_count": null,
   "metadata": {},
   "outputs": [],
   "source": []
  }
 ],
 "metadata": {
  "kernelspec": {
   "display_name": "Python 3",
   "language": "python",
   "name": "python3"
  },
  "language_info": {
   "codemirror_mode": {
    "name": "ipython",
    "version": 3
   },
   "file_extension": ".py",
   "mimetype": "text/x-python",
   "name": "python",
   "nbconvert_exporter": "python",
   "pygments_lexer": "ipython3",
   "version": "3.7.3"
  }
 },
 "nbformat": 4,
 "nbformat_minor": 2
}
